{
 "cells": [
  {
   "cell_type": "code",
   "execution_count": 1,
   "metadata": {
    "collapsed": true
   },
   "outputs": [],
   "source": [
    "# Import all libraries needed for the tutorial\n",
    "\n",
    "# General syntax to import specific functions in a library: \n",
    "##from (library) import (specific library function)\n",
    "from pandas import DataFrame, read_csv\n",
    "\n",
    "# General syntax to import a library but no functions: \n",
    "##import (library) as (give the library a nickname/alias)\n",
    "import matplotlib.pyplot as plt\n",
    "import pandas as pd #this is how I usually import pandas\n",
    "import sys #only needed to determine Python version number\n",
    "import matplotlib #only needed to determine Matplotlib version number\n",
    "import editdistance\n",
    "import itertools\n",
    "# Enable inline plotting\n",
    "%matplotlib inline"
   ]
  },
  {
   "cell_type": "code",
   "execution_count": 5,
   "metadata": {
    "collapsed": true
   },
   "outputs": [],
   "source": [
    "filename = 'namecleaned_big.csv'\n",
    "df = pd.read_csv(filename, dtype=object)"
   ]
  },
  {
   "cell_type": "code",
   "execution_count": 6,
   "metadata": {
    "collapsed": false
   },
   "outputs": [
    {
     "data": {
      "text/html": [
       "<div>\n",
       "<table border=\"1\" class=\"dataframe\">\n",
       "  <thead>\n",
       "    <tr style=\"text-align: right;\">\n",
       "      <th></th>\n",
       "      <th>Unnamed: 0</th>\n",
       "      <th>cmte_id</th>\n",
       "      <th>cand_id</th>\n",
       "      <th>cand_nm</th>\n",
       "      <th>contbr_nm</th>\n",
       "      <th>contbr_city</th>\n",
       "      <th>contbr_st</th>\n",
       "      <th>contbr_zip</th>\n",
       "      <th>contbr_employer</th>\n",
       "      <th>contbr_occupation</th>\n",
       "      <th>contb_receipt_amt</th>\n",
       "      <th>contb_receipt_dt</th>\n",
       "      <th>receipt_desc</th>\n",
       "      <th>memo_cd</th>\n",
       "      <th>memo_text</th>\n",
       "      <th>form_tp</th>\n",
       "      <th>file_num</th>\n",
       "      <th>tran_id</th>\n",
       "      <th>election_tp</th>\n",
       "      <th>contbr_nm_da</th>\n",
       "    </tr>\n",
       "  </thead>\n",
       "  <tbody>\n",
       "    <tr>\n",
       "      <th>0</th>\n",
       "      <td>2</td>\n",
       "      <td>C00458844</td>\n",
       "      <td>P60006723</td>\n",
       "      <td>Rubio, Marco</td>\n",
       "      <td>RUCINSKI, ROBERT</td>\n",
       "      <td>APO</td>\n",
       "      <td>AE</td>\n",
       "      <td>09096</td>\n",
       "      <td>US ARMY</td>\n",
       "      <td>PHYSICIAN</td>\n",
       "      <td>100</td>\n",
       "      <td>08-MAR-16</td>\n",
       "      <td>NaN</td>\n",
       "      <td>NaN</td>\n",
       "      <td>NaN</td>\n",
       "      <td>SA17A</td>\n",
       "      <td>1066300</td>\n",
       "      <td>SA17.1074981</td>\n",
       "      <td>P2016</td>\n",
       "      <td>RUCINSKI, ROBERT</td>\n",
       "    </tr>\n",
       "    <tr>\n",
       "      <th>1</th>\n",
       "      <td>3</td>\n",
       "      <td>C00458844</td>\n",
       "      <td>P60006723</td>\n",
       "      <td>Rubio, Marco</td>\n",
       "      <td>DOHERTY, THERESA</td>\n",
       "      <td>APO</td>\n",
       "      <td>AE</td>\n",
       "      <td>09752</td>\n",
       "      <td>DODEA/DS</td>\n",
       "      <td>TEACHER</td>\n",
       "      <td>500</td>\n",
       "      <td>26-JUN-15</td>\n",
       "      <td>NaN</td>\n",
       "      <td>NaN</td>\n",
       "      <td>NaN</td>\n",
       "      <td>SA17A</td>\n",
       "      <td>1029436</td>\n",
       "      <td>SA17.769700</td>\n",
       "      <td>P2016</td>\n",
       "      <td>DOHERTY, THERESA</td>\n",
       "    </tr>\n",
       "    <tr>\n",
       "      <th>2</th>\n",
       "      <td>4</td>\n",
       "      <td>C00458844</td>\n",
       "      <td>P60006723</td>\n",
       "      <td>Rubio, Marco</td>\n",
       "      <td>MARQUEZ, PANFILO</td>\n",
       "      <td>DPO</td>\n",
       "      <td>AE</td>\n",
       "      <td>09777</td>\n",
       "      <td>DEPARTMENT OF STATE</td>\n",
       "      <td>FOREIGN SERVICE OFFICER</td>\n",
       "      <td>100</td>\n",
       "      <td>07-MAR-16</td>\n",
       "      <td>NaN</td>\n",
       "      <td>NaN</td>\n",
       "      <td>NaN</td>\n",
       "      <td>SA17A</td>\n",
       "      <td>1066300</td>\n",
       "      <td>SA17.1074238</td>\n",
       "      <td>P2016</td>\n",
       "      <td>MARQUEZ, PANFILO</td>\n",
       "    </tr>\n",
       "    <tr>\n",
       "      <th>3</th>\n",
       "      <td>5</td>\n",
       "      <td>C00458844</td>\n",
       "      <td>P60006723</td>\n",
       "      <td>Rubio, Marco</td>\n",
       "      <td>RECKER, ANGELA</td>\n",
       "      <td>APO</td>\n",
       "      <td>AE</td>\n",
       "      <td>00138</td>\n",
       "      <td>GOVERNMENT</td>\n",
       "      <td>ATTORNEY</td>\n",
       "      <td>388.25</td>\n",
       "      <td>18-MAR-16</td>\n",
       "      <td>NaN</td>\n",
       "      <td>NaN</td>\n",
       "      <td>DEBT RETIREMENT</td>\n",
       "      <td>SA17A</td>\n",
       "      <td>1066300</td>\n",
       "      <td>SA17.1153167</td>\n",
       "      <td>P2016</td>\n",
       "      <td>RECKER, ANGELA</td>\n",
       "    </tr>\n",
       "    <tr>\n",
       "      <th>4</th>\n",
       "      <td>6</td>\n",
       "      <td>C00458844</td>\n",
       "      <td>P60006723</td>\n",
       "      <td>Rubio, Marco</td>\n",
       "      <td>RECKER, ANGELA</td>\n",
       "      <td>APO</td>\n",
       "      <td>AE</td>\n",
       "      <td>09012</td>\n",
       "      <td>GOVERNMENT</td>\n",
       "      <td>ATTORNEY</td>\n",
       "      <td>500</td>\n",
       "      <td>09-FEB-16</td>\n",
       "      <td>NaN</td>\n",
       "      <td>NaN</td>\n",
       "      <td>NaN</td>\n",
       "      <td>SA17A</td>\n",
       "      <td>1056862</td>\n",
       "      <td>SA17.1002064</td>\n",
       "      <td>P2016</td>\n",
       "      <td>RECKER, ANGELA</td>\n",
       "    </tr>\n",
       "  </tbody>\n",
       "</table>\n",
       "</div>"
      ],
      "text/plain": [
       "  Unnamed: 0    cmte_id    cand_id       cand_nm         contbr_nm  \\\n",
       "0          2  C00458844  P60006723  Rubio, Marco  RUCINSKI, ROBERT   \n",
       "1          3  C00458844  P60006723  Rubio, Marco  DOHERTY, THERESA   \n",
       "2          4  C00458844  P60006723  Rubio, Marco  MARQUEZ, PANFILO   \n",
       "3          5  C00458844  P60006723  Rubio, Marco    RECKER, ANGELA   \n",
       "4          6  C00458844  P60006723  Rubio, Marco    RECKER, ANGELA   \n",
       "\n",
       "  contbr_city contbr_st contbr_zip      contbr_employer  \\\n",
       "0         APO        AE      09096              US ARMY   \n",
       "1         APO        AE      09752             DODEA/DS   \n",
       "2         DPO        AE      09777  DEPARTMENT OF STATE   \n",
       "3         APO        AE      00138           GOVERNMENT   \n",
       "4         APO        AE      09012           GOVERNMENT   \n",
       "\n",
       "         contbr_occupation contb_receipt_amt contb_receipt_dt receipt_desc  \\\n",
       "0                PHYSICIAN               100        08-MAR-16          NaN   \n",
       "1                  TEACHER               500        26-JUN-15          NaN   \n",
       "2  FOREIGN SERVICE OFFICER               100        07-MAR-16          NaN   \n",
       "3                 ATTORNEY            388.25        18-MAR-16          NaN   \n",
       "4                 ATTORNEY               500        09-FEB-16          NaN   \n",
       "\n",
       "  memo_cd        memo_text form_tp file_num       tran_id election_tp  \\\n",
       "0     NaN              NaN   SA17A  1066300  SA17.1074981       P2016   \n",
       "1     NaN              NaN   SA17A  1029436   SA17.769700       P2016   \n",
       "2     NaN              NaN   SA17A  1066300  SA17.1074238       P2016   \n",
       "3     NaN  DEBT RETIREMENT   SA17A  1066300  SA17.1153167       P2016   \n",
       "4     NaN              NaN   SA17A  1056862  SA17.1002064       P2016   \n",
       "\n",
       "       contbr_nm_da  \n",
       "0  RUCINSKI, ROBERT  \n",
       "1  DOHERTY, THERESA  \n",
       "2  MARQUEZ, PANFILO  \n",
       "3    RECKER, ANGELA  \n",
       "4    RECKER, ANGELA  "
      ]
     },
     "execution_count": 6,
     "metadata": {},
     "output_type": "execute_result"
    }
   ],
   "source": [
    "df.head()"
   ]
  },
  {
   "cell_type": "code",
   "execution_count": 7,
   "metadata": {
    "collapsed": false
   },
   "outputs": [
    {
     "data": {
      "text/plain": [
       "(3801901, 20)"
      ]
     },
     "execution_count": 7,
     "metadata": {},
     "output_type": "execute_result"
    }
   ],
   "source": [
    "df.shape"
   ]
  },
  {
   "cell_type": "code",
   "execution_count": 62,
   "metadata": {
    "collapsed": true
   },
   "outputs": [],
   "source": [
    "df_reduced = df[['contbr_st', 'cand_nm', 'contbr_nm_da', 'contbr_zip', 'contbr_employer', 'contb_receipt_amt', 'contb_receipt_dt']].copy()"
   ]
  },
  {
   "cell_type": "code",
   "execution_count": 63,
   "metadata": {
    "collapsed": false
   },
   "outputs": [
    {
     "data": {
      "text/plain": [
       "(3801901, 7)"
      ]
     },
     "execution_count": 63,
     "metadata": {},
     "output_type": "execute_result"
    }
   ],
   "source": [
    "df_reduced.shape"
   ]
  },
  {
   "cell_type": "code",
   "execution_count": 64,
   "metadata": {
    "collapsed": false
   },
   "outputs": [
    {
     "data": {
      "text/html": [
       "<div>\n",
       "<table border=\"1\" class=\"dataframe\">\n",
       "  <thead>\n",
       "    <tr style=\"text-align: right;\">\n",
       "      <th></th>\n",
       "      <th>contbr_st</th>\n",
       "      <th>cand_nm</th>\n",
       "      <th>contbr_nm_da</th>\n",
       "      <th>contbr_zip</th>\n",
       "      <th>contbr_employer</th>\n",
       "      <th>contb_receipt_amt</th>\n",
       "      <th>contb_receipt_dt</th>\n",
       "    </tr>\n",
       "  </thead>\n",
       "  <tbody>\n",
       "    <tr>\n",
       "      <th>0</th>\n",
       "      <td>AE</td>\n",
       "      <td>Rubio, Marco</td>\n",
       "      <td>RUCINSKI, ROBERT</td>\n",
       "      <td>09096</td>\n",
       "      <td>US ARMY</td>\n",
       "      <td>100</td>\n",
       "      <td>08-MAR-16</td>\n",
       "    </tr>\n",
       "    <tr>\n",
       "      <th>1</th>\n",
       "      <td>AE</td>\n",
       "      <td>Rubio, Marco</td>\n",
       "      <td>DOHERTY, THERESA</td>\n",
       "      <td>09752</td>\n",
       "      <td>DODEA/DS</td>\n",
       "      <td>500</td>\n",
       "      <td>26-JUN-15</td>\n",
       "    </tr>\n",
       "    <tr>\n",
       "      <th>2</th>\n",
       "      <td>AE</td>\n",
       "      <td>Rubio, Marco</td>\n",
       "      <td>MARQUEZ, PANFILO</td>\n",
       "      <td>09777</td>\n",
       "      <td>DEPARTMENT OF STATE</td>\n",
       "      <td>100</td>\n",
       "      <td>07-MAR-16</td>\n",
       "    </tr>\n",
       "    <tr>\n",
       "      <th>3</th>\n",
       "      <td>AE</td>\n",
       "      <td>Rubio, Marco</td>\n",
       "      <td>RECKER, ANGELA</td>\n",
       "      <td>00138</td>\n",
       "      <td>GOVERNMENT</td>\n",
       "      <td>388.25</td>\n",
       "      <td>18-MAR-16</td>\n",
       "    </tr>\n",
       "    <tr>\n",
       "      <th>4</th>\n",
       "      <td>AE</td>\n",
       "      <td>Rubio, Marco</td>\n",
       "      <td>RECKER, ANGELA</td>\n",
       "      <td>09012</td>\n",
       "      <td>GOVERNMENT</td>\n",
       "      <td>500</td>\n",
       "      <td>09-FEB-16</td>\n",
       "    </tr>\n",
       "  </tbody>\n",
       "</table>\n",
       "</div>"
      ],
      "text/plain": [
       "  contbr_st       cand_nm      contbr_nm_da contbr_zip      contbr_employer  \\\n",
       "0        AE  Rubio, Marco  RUCINSKI, ROBERT      09096              US ARMY   \n",
       "1        AE  Rubio, Marco  DOHERTY, THERESA      09752             DODEA/DS   \n",
       "2        AE  Rubio, Marco  MARQUEZ, PANFILO      09777  DEPARTMENT OF STATE   \n",
       "3        AE  Rubio, Marco    RECKER, ANGELA      00138           GOVERNMENT   \n",
       "4        AE  Rubio, Marco    RECKER, ANGELA      09012           GOVERNMENT   \n",
       "\n",
       "  contb_receipt_amt contb_receipt_dt  \n",
       "0               100        08-MAR-16  \n",
       "1               500        26-JUN-15  \n",
       "2               100        07-MAR-16  \n",
       "3            388.25        18-MAR-16  \n",
       "4               500        09-FEB-16  "
      ]
     },
     "execution_count": 64,
     "metadata": {},
     "output_type": "execute_result"
    }
   ],
   "source": [
    "df_reduced.head()"
   ]
  },
  {
   "cell_type": "code",
   "execution_count": 65,
   "metadata": {
    "collapsed": false
   },
   "outputs": [],
   "source": [
    "df_reduced = df_reduced[df_reduced['contb_receipt_amt'].astype('float64') > 0]\n",
    "df_reduced = df_reduced.dropna(subset = ['contb_receipt_amt', 'contb_receipt_dt'])"
   ]
  },
  {
   "cell_type": "code",
   "execution_count": 69,
   "metadata": {
    "collapsed": true
   },
   "outputs": [],
   "source": [
    "df_reduced.to_csv('reduced_full_data.csv')"
   ]
  },
  {
   "cell_type": "code",
   "execution_count": 66,
   "metadata": {
    "collapsed": false
   },
   "outputs": [
    {
     "data": {
      "text/html": [
       "<div>\n",
       "<table border=\"1\" class=\"dataframe\">\n",
       "  <thead>\n",
       "    <tr style=\"text-align: right;\">\n",
       "      <th></th>\n",
       "      <th>contbr_nm_da</th>\n",
       "      <th>contbr_zip</th>\n",
       "      <th>cand_nm</th>\n",
       "    </tr>\n",
       "  </thead>\n",
       "  <tbody>\n",
       "    <tr>\n",
       "      <th>0</th>\n",
       "      <td>CONARE, PURNA RODMAN</td>\n",
       "      <td>02829</td>\n",
       "      <td>1</td>\n",
       "    </tr>\n",
       "    <tr>\n",
       "      <th>1</th>\n",
       "      <td>O'CONNOR, MICHAEL</td>\n",
       "      <td>20007</td>\n",
       "      <td>1</td>\n",
       "    </tr>\n",
       "    <tr>\n",
       "      <th>2</th>\n",
       "      <td>O'CONNOR, MICHAEL</td>\n",
       "      <td>29708</td>\n",
       "      <td>1</td>\n",
       "    </tr>\n",
       "    <tr>\n",
       "      <th>3</th>\n",
       "      <td>O'CONNOR, MICHAEL</td>\n",
       "      <td>46219</td>\n",
       "      <td>1</td>\n",
       "    </tr>\n",
       "    <tr>\n",
       "      <th>4</th>\n",
       "      <td>O'CONNOR, MICHAEL</td>\n",
       "      <td>94564</td>\n",
       "      <td>1</td>\n",
       "    </tr>\n",
       "  </tbody>\n",
       "</table>\n",
       "</div>"
      ],
      "text/plain": [
       "            contbr_nm_da contbr_zip  cand_nm\n",
       "0   CONARE, PURNA RODMAN      02829        1\n",
       "1      O'CONNOR, MICHAEL      20007        1\n",
       "2      O'CONNOR, MICHAEL      29708        1\n",
       "3      O'CONNOR, MICHAEL      46219        1\n",
       "4      O'CONNOR, MICHAEL      94564        1"
      ]
     },
     "execution_count": 66,
     "metadata": {},
     "output_type": "execute_result"
    }
   ],
   "source": [
    "num_of_contr = df_reduced.groupby(['contbr_nm_da', 'contbr_zip'])['cand_nm'].nunique().sort_values().reset_index()\n",
    "num_of_contr.head()"
   ]
  },
  {
   "cell_type": "code",
   "execution_count": 67,
   "metadata": {
    "collapsed": false
   },
   "outputs": [
    {
     "data": {
      "text/plain": [
       "(20524, 3)"
      ]
     },
     "execution_count": 67,
     "metadata": {},
     "output_type": "execute_result"
    }
   ],
   "source": [
    "num_of_contr[num_of_contr['cand_nm'] >= 2].shape"
   ]
  },
  {
   "cell_type": "code",
   "execution_count": 68,
   "metadata": {
    "collapsed": false
   },
   "outputs": [
    {
     "data": {
      "text/plain": [
       "(685022,)"
      ]
     },
     "execution_count": 68,
     "metadata": {},
     "output_type": "execute_result"
    }
   ],
   "source": [
    "df_reduced.groupby(['contbr_nm_da', 'contbr_zip'])['cand_nm'].count().shape"
   ]
  },
  {
   "cell_type": "code",
   "execution_count": 75,
   "metadata": {
    "collapsed": false
   },
   "outputs": [
    {
     "data": {
      "text/html": [
       "<div>\n",
       "<table border=\"1\" class=\"dataframe\">\n",
       "  <thead>\n",
       "    <tr style=\"text-align: right;\">\n",
       "      <th></th>\n",
       "      <th>contbr_st</th>\n",
       "      <th>cand_nm</th>\n",
       "      <th>contbr_nm_da</th>\n",
       "      <th>contbr_zip</th>\n",
       "      <th>contbr_employer</th>\n",
       "      <th>contb_receipt_amt</th>\n",
       "      <th>contb_receipt_dt</th>\n",
       "      <th>num_of_candidates</th>\n",
       "    </tr>\n",
       "  </thead>\n",
       "  <tbody>\n",
       "    <tr>\n",
       "      <th>0</th>\n",
       "      <td>AE</td>\n",
       "      <td>Rubio, Marco</td>\n",
       "      <td>RUCINSKI, ROBERT</td>\n",
       "      <td>09096</td>\n",
       "      <td>US ARMY</td>\n",
       "      <td>100</td>\n",
       "      <td>08-MAR-16</td>\n",
       "      <td>1</td>\n",
       "    </tr>\n",
       "    <tr>\n",
       "      <th>1</th>\n",
       "      <td>AE</td>\n",
       "      <td>Rubio, Marco</td>\n",
       "      <td>DOHERTY, THERESA</td>\n",
       "      <td>09752</td>\n",
       "      <td>DODEA/DS</td>\n",
       "      <td>500</td>\n",
       "      <td>26-JUN-15</td>\n",
       "      <td>1</td>\n",
       "    </tr>\n",
       "    <tr>\n",
       "      <th>2</th>\n",
       "      <td>AE</td>\n",
       "      <td>Rubio, Marco</td>\n",
       "      <td>MARQUEZ, PANFILO</td>\n",
       "      <td>09777</td>\n",
       "      <td>DEPARTMENT OF STATE</td>\n",
       "      <td>100</td>\n",
       "      <td>07-MAR-16</td>\n",
       "      <td>1</td>\n",
       "    </tr>\n",
       "    <tr>\n",
       "      <th>3</th>\n",
       "      <td>AE</td>\n",
       "      <td>Rubio, Marco</td>\n",
       "      <td>RECKER, ANGELA</td>\n",
       "      <td>00138</td>\n",
       "      <td>GOVERNMENT</td>\n",
       "      <td>388.25</td>\n",
       "      <td>18-MAR-16</td>\n",
       "      <td>1</td>\n",
       "    </tr>\n",
       "    <tr>\n",
       "      <th>4</th>\n",
       "      <td>AE</td>\n",
       "      <td>Rubio, Marco</td>\n",
       "      <td>RECKER, ANGELA</td>\n",
       "      <td>09012</td>\n",
       "      <td>GOVERNMENT</td>\n",
       "      <td>500</td>\n",
       "      <td>09-FEB-16</td>\n",
       "      <td>1</td>\n",
       "    </tr>\n",
       "  </tbody>\n",
       "</table>\n",
       "</div>"
      ],
      "text/plain": [
       "  contbr_st       cand_nm      contbr_nm_da contbr_zip      contbr_employer  \\\n",
       "0        AE  Rubio, Marco  RUCINSKI, ROBERT      09096              US ARMY   \n",
       "1        AE  Rubio, Marco  DOHERTY, THERESA      09752             DODEA/DS   \n",
       "2        AE  Rubio, Marco  MARQUEZ, PANFILO      09777  DEPARTMENT OF STATE   \n",
       "3        AE  Rubio, Marco    RECKER, ANGELA      00138           GOVERNMENT   \n",
       "4        AE  Rubio, Marco    RECKER, ANGELA      09012           GOVERNMENT   \n",
       "\n",
       "  contb_receipt_amt contb_receipt_dt num_of_candidates  \n",
       "0               100        08-MAR-16                 1  \n",
       "1               500        26-JUN-15                 1  \n",
       "2               100        07-MAR-16                 1  \n",
       "3            388.25        18-MAR-16                 1  \n",
       "4               500        09-FEB-16                 1  "
      ]
     },
     "execution_count": 75,
     "metadata": {},
     "output_type": "execute_result"
    }
   ],
   "source": [
    "unq = lambda x: x.nunique()\n",
    "df_reduced['num_of_candidates'] = df_reduced.groupby(['contbr_nm_da', 'contbr_zip'])['cand_nm'].transform(unq)\n",
    "df_reduced.head()"
   ]
  },
  {
   "cell_type": "code",
   "execution_count": 91,
   "metadata": {
    "collapsed": false
   },
   "outputs": [
    {
     "data": {
      "text/html": [
       "<div>\n",
       "<table border=\"1\" class=\"dataframe\">\n",
       "  <thead>\n",
       "    <tr style=\"text-align: right;\">\n",
       "      <th></th>\n",
       "      <th>contbr_st</th>\n",
       "      <th>cand_nm</th>\n",
       "      <th>contbr_nm_da</th>\n",
       "      <th>contbr_zip</th>\n",
       "      <th>contbr_employer</th>\n",
       "      <th>contb_receipt_amt</th>\n",
       "      <th>contb_receipt_dt</th>\n",
       "      <th>num_of_candidates</th>\n",
       "    </tr>\n",
       "  </thead>\n",
       "  <tbody>\n",
       "    <tr>\n",
       "      <th>42</th>\n",
       "      <td>AK</td>\n",
       "      <td>Rubio, Marco</td>\n",
       "      <td>MELSON, CHARLENE</td>\n",
       "      <td>99503</td>\n",
       "      <td>RETIRED</td>\n",
       "      <td>50</td>\n",
       "      <td>27-FEB-16</td>\n",
       "      <td>2</td>\n",
       "    </tr>\n",
       "    <tr>\n",
       "      <th>44</th>\n",
       "      <td>AK</td>\n",
       "      <td>Rubio, Marco</td>\n",
       "      <td>JANELLI, REBECCA T.</td>\n",
       "      <td>99507</td>\n",
       "      <td>RETIRED</td>\n",
       "      <td>100</td>\n",
       "      <td>16-JAN-16</td>\n",
       "      <td>3</td>\n",
       "    </tr>\n",
       "    <tr>\n",
       "      <th>45</th>\n",
       "      <td>AK</td>\n",
       "      <td>Rubio, Marco</td>\n",
       "      <td>MITCHELL, WILLIAM W. MR.</td>\n",
       "      <td>99645</td>\n",
       "      <td>INFORMATION REQUESTED PER BEST EFFORTS</td>\n",
       "      <td>350</td>\n",
       "      <td>22-FEB-16</td>\n",
       "      <td>2</td>\n",
       "    </tr>\n",
       "    <tr>\n",
       "      <th>67</th>\n",
       "      <td>AK</td>\n",
       "      <td>Rubio, Marco</td>\n",
       "      <td>WILLIAMS, DAVID L.</td>\n",
       "      <td>99709</td>\n",
       "      <td>RETIRED</td>\n",
       "      <td>50</td>\n",
       "      <td>03-FEB-16</td>\n",
       "      <td>5</td>\n",
       "    </tr>\n",
       "    <tr>\n",
       "      <th>68</th>\n",
       "      <td>AK</td>\n",
       "      <td>Rubio, Marco</td>\n",
       "      <td>WILLIAMS, DAVID L.</td>\n",
       "      <td>99709</td>\n",
       "      <td>RETIRED</td>\n",
       "      <td>15</td>\n",
       "      <td>18-FEB-16</td>\n",
       "      <td>5</td>\n",
       "    </tr>\n",
       "  </tbody>\n",
       "</table>\n",
       "</div>"
      ],
      "text/plain": [
       "   contbr_st       cand_nm              contbr_nm_da contbr_zip  \\\n",
       "42        AK  Rubio, Marco          MELSON, CHARLENE      99503   \n",
       "44        AK  Rubio, Marco       JANELLI, REBECCA T.      99507   \n",
       "45        AK  Rubio, Marco  MITCHELL, WILLIAM W. MR.      99645   \n",
       "67        AK  Rubio, Marco        WILLIAMS, DAVID L.      99709   \n",
       "68        AK  Rubio, Marco        WILLIAMS, DAVID L.      99709   \n",
       "\n",
       "                           contbr_employer contb_receipt_amt contb_receipt_dt  \\\n",
       "42                                 RETIRED                50        27-FEB-16   \n",
       "44                                 RETIRED               100        16-JAN-16   \n",
       "45  INFORMATION REQUESTED PER BEST EFFORTS               350        22-FEB-16   \n",
       "67                                 RETIRED                50        03-FEB-16   \n",
       "68                                 RETIRED                15        18-FEB-16   \n",
       "\n",
       "   num_of_candidates  \n",
       "42                 2  \n",
       "44                 3  \n",
       "45                 2  \n",
       "67                 5  \n",
       "68                 5  "
      ]
     },
     "execution_count": 91,
     "metadata": {},
     "output_type": "execute_result"
    }
   ],
   "source": [
    "df_donated_to_different = df_reduced[df_reduced['num_of_candidates'] > 1].copy()\n",
    "df_donated_to_different.head()"
   ]
  },
  {
   "cell_type": "code",
   "execution_count": 92,
   "metadata": {
    "collapsed": false
   },
   "outputs": [],
   "source": [
    "df_donated_to_different['contb_receipt_dt'] = pd.to_datetime(df_donated_to_different['contb_receipt_dt'])"
   ]
  },
  {
   "cell_type": "code",
   "execution_count": 100,
   "metadata": {
    "collapsed": false
   },
   "outputs": [
    {
     "data": {
      "text/html": [
       "<div>\n",
       "<table border=\"1\" class=\"dataframe\">\n",
       "  <thead>\n",
       "    <tr style=\"text-align: right;\">\n",
       "      <th></th>\n",
       "      <th>contbr_st</th>\n",
       "      <th>cand_nm</th>\n",
       "      <th>contbr_nm_da</th>\n",
       "      <th>contbr_zip</th>\n",
       "      <th>contbr_employer</th>\n",
       "      <th>contb_receipt_amt</th>\n",
       "      <th>contb_receipt_dt</th>\n",
       "      <th>num_of_candidates</th>\n",
       "    </tr>\n",
       "    <tr>\n",
       "      <th>id</th>\n",
       "      <th></th>\n",
       "      <th></th>\n",
       "      <th></th>\n",
       "      <th></th>\n",
       "      <th></th>\n",
       "      <th></th>\n",
       "      <th></th>\n",
       "      <th></th>\n",
       "    </tr>\n",
       "  </thead>\n",
       "  <tbody>\n",
       "    <tr>\n",
       "      <th>58523</th>\n",
       "      <td>MI</td>\n",
       "      <td>Rubio, Marco</td>\n",
       "      <td>FOSDICK, THEODORE D. MR.</td>\n",
       "      <td>48106</td>\n",
       "      <td>OMICRON INC.</td>\n",
       "      <td>100</td>\n",
       "      <td>2013-10-07</td>\n",
       "      <td>2</td>\n",
       "    </tr>\n",
       "    <tr>\n",
       "      <th>74817</th>\n",
       "      <td>NY</td>\n",
       "      <td>Rubio, Marco</td>\n",
       "      <td>PALMER, EDITH P. MISS</td>\n",
       "      <td>10918</td>\n",
       "      <td>RETIRED</td>\n",
       "      <td>200</td>\n",
       "      <td>2013-10-11</td>\n",
       "      <td>3</td>\n",
       "    </tr>\n",
       "    <tr>\n",
       "      <th>58524</th>\n",
       "      <td>MI</td>\n",
       "      <td>Rubio, Marco</td>\n",
       "      <td>FOSDICK, THEODORE D. MR.</td>\n",
       "      <td>48176</td>\n",
       "      <td>OMICRON INC.</td>\n",
       "      <td>200</td>\n",
       "      <td>2013-10-28</td>\n",
       "      <td>2</td>\n",
       "    </tr>\n",
       "    <tr>\n",
       "      <th>43905</th>\n",
       "      <td>GA</td>\n",
       "      <td>Rubio, Marco</td>\n",
       "      <td>HARRIS, BOBBYE F. MS.</td>\n",
       "      <td>30701</td>\n",
       "      <td>RETIRED</td>\n",
       "      <td>100</td>\n",
       "      <td>2013-10-29</td>\n",
       "      <td>9</td>\n",
       "    </tr>\n",
       "    <tr>\n",
       "      <th>94908</th>\n",
       "      <td>TX</td>\n",
       "      <td>Rubio, Marco</td>\n",
       "      <td>CAHOON, COLIN P. MR.</td>\n",
       "      <td>75229</td>\n",
       "      <td>SELF-EMPLOYED</td>\n",
       "      <td>400</td>\n",
       "      <td>2013-10-30</td>\n",
       "      <td>2</td>\n",
       "    </tr>\n",
       "  </tbody>\n",
       "</table>\n",
       "</div>"
      ],
      "text/plain": [
       "      contbr_st       cand_nm              contbr_nm_da contbr_zip  \\\n",
       "id                                                                   \n",
       "58523        MI  Rubio, Marco  FOSDICK, THEODORE D. MR.      48106   \n",
       "74817        NY  Rubio, Marco     PALMER, EDITH P. MISS      10918   \n",
       "58524        MI  Rubio, Marco  FOSDICK, THEODORE D. MR.      48176   \n",
       "43905        GA  Rubio, Marco     HARRIS, BOBBYE F. MS.      30701   \n",
       "94908        TX  Rubio, Marco      CAHOON, COLIN P. MR.      75229   \n",
       "\n",
       "      contbr_employer contb_receipt_amt contb_receipt_dt num_of_candidates  \n",
       "id                                                                          \n",
       "58523    OMICRON INC.               100       2013-10-07                 2  \n",
       "74817         RETIRED               200       2013-10-11                 3  \n",
       "58524    OMICRON INC.               200       2013-10-28                 2  \n",
       "43905         RETIRED               100       2013-10-29                 9  \n",
       "94908   SELF-EMPLOYED               400       2013-10-30                 2  "
      ]
     },
     "execution_count": 100,
     "metadata": {},
     "output_type": "execute_result"
    }
   ],
   "source": [
    "df_donated_to_different = df_donated_to_different.sort_values(by='contb_receipt_dt')\n",
    "df_donated_to_different.index.names = ['id']\n",
    "df_donated_to_different.head()"
   ]
  },
  {
   "cell_type": "code",
   "execution_count": 101,
   "metadata": {
    "collapsed": true
   },
   "outputs": [],
   "source": [
    "df_donated_to_different.to_csv('donated_to_different_guys.csv', index=True)"
   ]
  },
  {
   "cell_type": "code",
   "execution_count": null,
   "metadata": {
    "collapsed": true
   },
   "outputs": [],
   "source": []
  }
 ],
 "metadata": {
  "kernelspec": {
   "display_name": "Python [Root]",
   "language": "python",
   "name": "Python [Root]"
  },
  "language_info": {
   "codemirror_mode": {
    "name": "ipython",
    "version": 2
   },
   "file_extension": ".py",
   "mimetype": "text/x-python",
   "name": "python",
   "nbconvert_exporter": "python",
   "pygments_lexer": "ipython2",
   "version": "2.7.11"
  }
 },
 "nbformat": 4,
 "nbformat_minor": 0
}
