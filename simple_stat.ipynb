{
 "cells": [
  {
   "cell_type": "code",
   "execution_count": 18,
   "metadata": {
    "collapsed": true
   },
   "outputs": [],
   "source": [
    "# Import all libraries needed for the tutorial\n",
    "\n",
    "# General syntax to import specific functions in a library: \n",
    "##from (library) import (specific library function)\n",
    "from pandas import DataFrame, read_csv\n",
    "\n",
    "# General syntax to import a library but no functions: \n",
    "##import (library) as (give the library a nickname/alias)\n",
    "import matplotlib.pyplot as plt\n",
    "import pandas as pd #this is how I usually import pandas\n",
    "import sys #only needed to determine Python version number\n",
    "import matplotlib #only needed to determine Matplotlib version number\n",
    "import geopandas \n",
    "import editdistance\n",
    "import itertools\n",
    "# Enable inline plotting\n",
    "%matplotlib inline"
   ]
  },
  {
   "cell_type": "code",
   "execution_count": 19,
   "metadata": {
    "collapsed": true
   },
   "outputs": [],
   "source": [
    "filename = 'reduced_full_data.csv'\n",
    "df = pd.read_csv(filename, dtype=object)"
   ]
  },
  {
   "cell_type": "code",
   "execution_count": 170,
   "metadata": {
    "collapsed": false
   },
   "outputs": [
    {
     "data": {
      "text/plain": [
       "cand_nm\n",
       "Kasich, John R.              4577712.57\n",
       "Clinton, Hillary Rodham      2422294.09\n",
       "Cruz, Rafael Edward 'Ted'    1395722.60\n",
       "Sanders, Bernard             1376764.10\n",
       "Rubio, Marco                 1005987.76\n",
       "Carson, Benjamin S.           731006.55\n",
       "Bush, Jeb                     260855.00\n",
       "Paul, Rand                    117148.92\n",
       "Trump, Donald J.              101432.14\n",
       "Fiorina, Carly                 83575.09\n",
       "Walker, Scott                  42158.00\n",
       "Graham, Lindsey O.             23300.00\n",
       "O'Malley, Martin Joseph        16870.00\n",
       "Santorum, Richard J.           13964.60\n",
       "Huckabee, Mike                 10651.00\n",
       "Johnson, Gary                   8471.10\n",
       "Christie, Christopher J.        6200.00\n",
       "Lessig, Lawrence                4012.77\n",
       "Jindal, Bobby                   3420.16\n",
       "Perry, James R. (Rick)          3185.00\n",
       "Webb, James Henry Jr.           2600.00\n",
       "Stein, Jill                     1750.00\n",
       "Pataki, George E.               1250.00\n",
       "Name: contb_receipt_amt, dtype: float64"
      ]
     },
     "execution_count": 170,
     "metadata": {},
     "output_type": "execute_result"
    }
   ],
   "source": [
    "florida_df = df[df['contbr_st'] == 'OH'].copy()\n",
    "florida_df['contb_receipt_amt'] = pd.to_numeric(florida_df['contb_receipt_amt'])\n",
    "florida_df.groupby('cand_nm')['contb_receipt_amt'].sum().sort_values(ascending=False)"
   ]
  },
  {
   "cell_type": "code",
   "execution_count": 20,
   "metadata": {
    "collapsed": false
   },
   "outputs": [
    {
     "data": {
      "text/html": [
       "<div>\n",
       "<table border=\"1\" class=\"dataframe\">\n",
       "  <thead>\n",
       "    <tr style=\"text-align: right;\">\n",
       "      <th></th>\n",
       "      <th>Unnamed: 0</th>\n",
       "      <th>contbr_st</th>\n",
       "      <th>cand_nm</th>\n",
       "      <th>contbr_nm_da</th>\n",
       "      <th>contbr_zip</th>\n",
       "      <th>contbr_employer</th>\n",
       "      <th>contb_receipt_amt</th>\n",
       "      <th>contb_receipt_dt</th>\n",
       "    </tr>\n",
       "  </thead>\n",
       "  <tbody>\n",
       "    <tr>\n",
       "      <th>0</th>\n",
       "      <td>0</td>\n",
       "      <td>AE</td>\n",
       "      <td>Rubio, Marco</td>\n",
       "      <td>RUCINSKI, ROBERT</td>\n",
       "      <td>09096</td>\n",
       "      <td>US ARMY</td>\n",
       "      <td>100</td>\n",
       "      <td>08-MAR-16</td>\n",
       "    </tr>\n",
       "    <tr>\n",
       "      <th>1</th>\n",
       "      <td>1</td>\n",
       "      <td>AE</td>\n",
       "      <td>Rubio, Marco</td>\n",
       "      <td>DOHERTY, THERESA</td>\n",
       "      <td>09752</td>\n",
       "      <td>DODEA/DS</td>\n",
       "      <td>500</td>\n",
       "      <td>26-JUN-15</td>\n",
       "    </tr>\n",
       "    <tr>\n",
       "      <th>2</th>\n",
       "      <td>2</td>\n",
       "      <td>AE</td>\n",
       "      <td>Rubio, Marco</td>\n",
       "      <td>MARQUEZ, PANFILO</td>\n",
       "      <td>09777</td>\n",
       "      <td>DEPARTMENT OF STATE</td>\n",
       "      <td>100</td>\n",
       "      <td>07-MAR-16</td>\n",
       "    </tr>\n",
       "    <tr>\n",
       "      <th>3</th>\n",
       "      <td>3</td>\n",
       "      <td>AE</td>\n",
       "      <td>Rubio, Marco</td>\n",
       "      <td>RECKER, ANGELA</td>\n",
       "      <td>00138</td>\n",
       "      <td>GOVERNMENT</td>\n",
       "      <td>388.25</td>\n",
       "      <td>18-MAR-16</td>\n",
       "    </tr>\n",
       "    <tr>\n",
       "      <th>4</th>\n",
       "      <td>4</td>\n",
       "      <td>AE</td>\n",
       "      <td>Rubio, Marco</td>\n",
       "      <td>RECKER, ANGELA</td>\n",
       "      <td>09012</td>\n",
       "      <td>GOVERNMENT</td>\n",
       "      <td>500</td>\n",
       "      <td>09-FEB-16</td>\n",
       "    </tr>\n",
       "  </tbody>\n",
       "</table>\n",
       "</div>"
      ],
      "text/plain": [
       "  Unnamed: 0 contbr_st       cand_nm      contbr_nm_da contbr_zip  \\\n",
       "0          0        AE  Rubio, Marco  RUCINSKI, ROBERT      09096   \n",
       "1          1        AE  Rubio, Marco  DOHERTY, THERESA      09752   \n",
       "2          2        AE  Rubio, Marco  MARQUEZ, PANFILO      09777   \n",
       "3          3        AE  Rubio, Marco    RECKER, ANGELA      00138   \n",
       "4          4        AE  Rubio, Marco    RECKER, ANGELA      09012   \n",
       "\n",
       "       contbr_employer contb_receipt_amt contb_receipt_dt  \n",
       "0              US ARMY               100        08-MAR-16  \n",
       "1             DODEA/DS               500        26-JUN-15  \n",
       "2  DEPARTMENT OF STATE               100        07-MAR-16  \n",
       "3           GOVERNMENT            388.25        18-MAR-16  \n",
       "4           GOVERNMENT               500        09-FEB-16  "
      ]
     },
     "execution_count": 20,
     "metadata": {},
     "output_type": "execute_result"
    }
   ],
   "source": [
    "df.head()"
   ]
  },
  {
   "cell_type": "code",
   "execution_count": 21,
   "metadata": {
    "collapsed": false
   },
   "outputs": [
    {
     "data": {
      "text/plain": [
       "(3759428, 8)"
      ]
     },
     "execution_count": 21,
     "metadata": {},
     "output_type": "execute_result"
    }
   ],
   "source": [
    "df.shape"
   ]
  },
  {
   "cell_type": "code",
   "execution_count": 11,
   "metadata": {
    "collapsed": false
   },
   "outputs": [],
   "source": [
    "wo_na = df.dropna(subset=['contbr_employer'])\n",
    "univs_df = wo_na[wo_na['contbr_employer'].str.contains('UNIV')].copy()"
   ]
  },
  {
   "cell_type": "code",
   "execution_count": 12,
   "metadata": {
    "collapsed": false
   },
   "outputs": [
    {
     "data": {
      "text/html": [
       "<div>\n",
       "<table border=\"1\" class=\"dataframe\">\n",
       "  <thead>\n",
       "    <tr style=\"text-align: right;\">\n",
       "      <th></th>\n",
       "      <th>Unnamed: 0</th>\n",
       "      <th>contbr_st</th>\n",
       "      <th>cand_nm</th>\n",
       "      <th>contbr_nm_da</th>\n",
       "      <th>contbr_zip</th>\n",
       "      <th>contbr_employer</th>\n",
       "      <th>contb_receipt_amt</th>\n",
       "      <th>contb_receipt_dt</th>\n",
       "    </tr>\n",
       "  </thead>\n",
       "  <tbody>\n",
       "    <tr>\n",
       "      <th>267</th>\n",
       "      <td>277</td>\n",
       "      <td>AL</td>\n",
       "      <td>Rubio, Marco</td>\n",
       "      <td>BIEBIGHAUSER, VICTOR</td>\n",
       "      <td>36111</td>\n",
       "      <td>SOUTH UNIVERSITY OF ALABAMA INC.</td>\n",
       "      <td>2700</td>\n",
       "      <td>21-JUN-15</td>\n",
       "    </tr>\n",
       "    <tr>\n",
       "      <th>437</th>\n",
       "      <td>453</td>\n",
       "      <td>AL</td>\n",
       "      <td>Rubio, Marco</td>\n",
       "      <td>CARTER, JACK DR. JR.</td>\n",
       "      <td>35242</td>\n",
       "      <td>UNIVERSITY OF ALABAMA @ BIRMINGHAM</td>\n",
       "      <td>2000</td>\n",
       "      <td>11-DEC-15</td>\n",
       "    </tr>\n",
       "    <tr>\n",
       "      <th>929</th>\n",
       "      <td>953</td>\n",
       "      <td>AL</td>\n",
       "      <td>Rubio, Marco</td>\n",
       "      <td>KOSHUT, TOM</td>\n",
       "      <td>35763</td>\n",
       "      <td>UNIVERSITY OF ALABAMA IN HUNTSVILLE</td>\n",
       "      <td>250</td>\n",
       "      <td>29-FEB-16</td>\n",
       "    </tr>\n",
       "    <tr>\n",
       "      <th>1386</th>\n",
       "      <td>1426</td>\n",
       "      <td>AR</td>\n",
       "      <td>Rubio, Marco</td>\n",
       "      <td>SMITH, PAUL</td>\n",
       "      <td>72761</td>\n",
       "      <td>JOHN BROWN UNIVERSITY</td>\n",
       "      <td>50</td>\n",
       "      <td>11-FEB-16</td>\n",
       "    </tr>\n",
       "    <tr>\n",
       "      <th>1387</th>\n",
       "      <td>1427</td>\n",
       "      <td>AR</td>\n",
       "      <td>Rubio, Marco</td>\n",
       "      <td>SMITH, PAUL</td>\n",
       "      <td>72761</td>\n",
       "      <td>JOHN BROWN UNIVERSITY</td>\n",
       "      <td>100</td>\n",
       "      <td>06-FEB-16</td>\n",
       "    </tr>\n",
       "  </tbody>\n",
       "</table>\n",
       "</div>"
      ],
      "text/plain": [
       "     Unnamed: 0 contbr_st       cand_nm          contbr_nm_da contbr_zip  \\\n",
       "267         277        AL  Rubio, Marco  BIEBIGHAUSER, VICTOR      36111   \n",
       "437         453        AL  Rubio, Marco  CARTER, JACK DR. JR.      35242   \n",
       "929         953        AL  Rubio, Marco           KOSHUT, TOM      35763   \n",
       "1386       1426        AR  Rubio, Marco           SMITH, PAUL      72761   \n",
       "1387       1427        AR  Rubio, Marco           SMITH, PAUL      72761   \n",
       "\n",
       "                          contbr_employer contb_receipt_amt contb_receipt_dt  \n",
       "267      SOUTH UNIVERSITY OF ALABAMA INC.              2700        21-JUN-15  \n",
       "437    UNIVERSITY OF ALABAMA @ BIRMINGHAM              2000        11-DEC-15  \n",
       "929   UNIVERSITY OF ALABAMA IN HUNTSVILLE               250        29-FEB-16  \n",
       "1386                JOHN BROWN UNIVERSITY                50        11-FEB-16  \n",
       "1387                JOHN BROWN UNIVERSITY               100        06-FEB-16  "
      ]
     },
     "execution_count": 12,
     "metadata": {},
     "output_type": "execute_result"
    }
   ],
   "source": [
    "univs_df.head()"
   ]
  },
  {
   "cell_type": "code",
   "execution_count": 13,
   "metadata": {
    "collapsed": false
   },
   "outputs": [
    {
     "data": {
      "text/plain": [
       "110334"
      ]
     },
     "execution_count": 13,
     "metadata": {},
     "output_type": "execute_result"
    }
   ],
   "source": [
    "univs_df.shape[0]"
   ]
  },
  {
   "cell_type": "code",
   "execution_count": 17,
   "metadata": {
    "collapsed": false
   },
   "outputs": [
    {
     "data": {
      "text/plain": [
       "17652"
      ]
     },
     "execution_count": 17,
     "metadata": {},
     "output_type": "execute_result"
    }
   ],
   "source": [
    "len(univs_df.groupby(['contbr_nm_da', 'contbr_zip']))"
   ]
  },
  {
   "cell_type": "code",
   "execution_count": 25,
   "metadata": {
    "collapsed": false
   },
   "outputs": [
    {
     "data": {
      "text/plain": [
       "[u'AL', u'AK']"
      ]
     },
     "execution_count": 25,
     "metadata": {},
     "output_type": "execute_result"
    }
   ],
   "source": [
    "import us\n",
    "states = [x.abbr for x in us.states.STATES]\n",
    "states[:2]"
   ]
  },
  {
   "cell_type": "code",
   "execution_count": 54,
   "metadata": {
    "collapsed": false
   },
   "outputs": [
    {
     "data": {
      "text/html": [
       "<div>\n",
       "<table border=\"1\" class=\"dataframe\">\n",
       "  <thead>\n",
       "    <tr style=\"text-align: right;\">\n",
       "      <th></th>\n",
       "      <th>contbr_st</th>\n",
       "      <th>cand_nm</th>\n",
       "      <th>contb_receipt_amt</th>\n",
       "    </tr>\n",
       "  </thead>\n",
       "  <tbody>\n",
       "    <tr>\n",
       "      <th>18</th>\n",
       "      <td>AK</td>\n",
       "      <td>Rubio, Marco</td>\n",
       "      <td>500</td>\n",
       "    </tr>\n",
       "    <tr>\n",
       "      <th>19</th>\n",
       "      <td>AK</td>\n",
       "      <td>Rubio, Marco</td>\n",
       "      <td>100</td>\n",
       "    </tr>\n",
       "    <tr>\n",
       "      <th>20</th>\n",
       "      <td>AK</td>\n",
       "      <td>Rubio, Marco</td>\n",
       "      <td>25</td>\n",
       "    </tr>\n",
       "    <tr>\n",
       "      <th>21</th>\n",
       "      <td>AK</td>\n",
       "      <td>Rubio, Marco</td>\n",
       "      <td>250</td>\n",
       "    </tr>\n",
       "    <tr>\n",
       "      <th>22</th>\n",
       "      <td>AK</td>\n",
       "      <td>Rubio, Marco</td>\n",
       "      <td>15</td>\n",
       "    </tr>\n",
       "  </tbody>\n",
       "</table>\n",
       "</div>"
      ],
      "text/plain": [
       "   contbr_st       cand_nm contb_receipt_amt\n",
       "18        AK  Rubio, Marco               500\n",
       "19        AK  Rubio, Marco               100\n",
       "20        AK  Rubio, Marco                25\n",
       "21        AK  Rubio, Marco               250\n",
       "22        AK  Rubio, Marco                15"
      ]
     },
     "execution_count": 54,
     "metadata": {},
     "output_type": "execute_result"
    }
   ],
   "source": [
    "valid_states_df = df[df['contbr_st'].isin(states)]\n",
    "reduced_vs_df = valid_states_df[['contbr_st', 'cand_nm', 'contb_receipt_amt']].copy()\n",
    "reduced_vs_df.head()"
   ]
  },
  {
   "cell_type": "code",
   "execution_count": 55,
   "metadata": {
    "collapsed": false
   },
   "outputs": [
    {
     "data": {
      "text/html": [
       "<div>\n",
       "<table border=\"1\" class=\"dataframe\">\n",
       "  <thead>\n",
       "    <tr style=\"text-align: right;\">\n",
       "      <th></th>\n",
       "      <th>affil</th>\n",
       "      <th>name</th>\n",
       "    </tr>\n",
       "  </thead>\n",
       "  <tbody>\n",
       "    <tr>\n",
       "      <th>0</th>\n",
       "      <td>R</td>\n",
       "      <td>Bush, Jeb</td>\n",
       "    </tr>\n",
       "    <tr>\n",
       "      <th>1</th>\n",
       "      <td>R</td>\n",
       "      <td>Carson, Benjamin S.</td>\n",
       "    </tr>\n",
       "    <tr>\n",
       "      <th>2</th>\n",
       "      <td>R</td>\n",
       "      <td>Christie, Christopher J.</td>\n",
       "    </tr>\n",
       "    <tr>\n",
       "      <th>3</th>\n",
       "      <td>D</td>\n",
       "      <td>Clinton, Hillary Rodham</td>\n",
       "    </tr>\n",
       "    <tr>\n",
       "      <th>4</th>\n",
       "      <td>R</td>\n",
       "      <td>Cruz, Rafael Edward 'Ted'</td>\n",
       "    </tr>\n",
       "    <tr>\n",
       "      <th>5</th>\n",
       "      <td>R</td>\n",
       "      <td>Fiorina, Carly</td>\n",
       "    </tr>\n",
       "    <tr>\n",
       "      <th>6</th>\n",
       "      <td>R</td>\n",
       "      <td>Gilmore, James S IIII</td>\n",
       "    </tr>\n",
       "    <tr>\n",
       "      <th>7</th>\n",
       "      <td>R</td>\n",
       "      <td>Graham, Lindsey O.</td>\n",
       "    </tr>\n",
       "    <tr>\n",
       "      <th>8</th>\n",
       "      <td>R</td>\n",
       "      <td>Huckabee, Mike</td>\n",
       "    </tr>\n",
       "    <tr>\n",
       "      <th>9</th>\n",
       "      <td>R</td>\n",
       "      <td>Jindal, Bobby</td>\n",
       "    </tr>\n",
       "    <tr>\n",
       "      <th>10</th>\n",
       "      <td>I</td>\n",
       "      <td>Johnson, Gary</td>\n",
       "    </tr>\n",
       "    <tr>\n",
       "      <th>11</th>\n",
       "      <td>R</td>\n",
       "      <td>Kasich, John R.</td>\n",
       "    </tr>\n",
       "    <tr>\n",
       "      <th>12</th>\n",
       "      <td>D</td>\n",
       "      <td>Lessig, Lawrence</td>\n",
       "    </tr>\n",
       "    <tr>\n",
       "      <th>13</th>\n",
       "      <td>D</td>\n",
       "      <td>O'Malley, Martin Joseph</td>\n",
       "    </tr>\n",
       "    <tr>\n",
       "      <th>14</th>\n",
       "      <td>R</td>\n",
       "      <td>Pataki, George E.</td>\n",
       "    </tr>\n",
       "    <tr>\n",
       "      <th>15</th>\n",
       "      <td>R</td>\n",
       "      <td>Paul, Rand</td>\n",
       "    </tr>\n",
       "    <tr>\n",
       "      <th>16</th>\n",
       "      <td>R</td>\n",
       "      <td>Perry, James R. (Rick)</td>\n",
       "    </tr>\n",
       "    <tr>\n",
       "      <th>17</th>\n",
       "      <td>R</td>\n",
       "      <td>Rubio, Marco</td>\n",
       "    </tr>\n",
       "    <tr>\n",
       "      <th>18</th>\n",
       "      <td>D</td>\n",
       "      <td>Sanders, Bernard</td>\n",
       "    </tr>\n",
       "    <tr>\n",
       "      <th>19</th>\n",
       "      <td>R</td>\n",
       "      <td>Santorum, Richard J.</td>\n",
       "    </tr>\n",
       "    <tr>\n",
       "      <th>20</th>\n",
       "      <td>I</td>\n",
       "      <td>Stein, Jill</td>\n",
       "    </tr>\n",
       "    <tr>\n",
       "      <th>21</th>\n",
       "      <td>R</td>\n",
       "      <td>Trump, Donald J.</td>\n",
       "    </tr>\n",
       "    <tr>\n",
       "      <th>22</th>\n",
       "      <td>R</td>\n",
       "      <td>Walker, Scott</td>\n",
       "    </tr>\n",
       "    <tr>\n",
       "      <th>23</th>\n",
       "      <td>D</td>\n",
       "      <td>Webb, James Henry Jr.</td>\n",
       "    </tr>\n",
       "  </tbody>\n",
       "</table>\n",
       "</div>"
      ],
      "text/plain": [
       "   affil                       name\n",
       "0      R                  Bush, Jeb\n",
       "1      R        Carson, Benjamin S.\n",
       "2      R   Christie, Christopher J.\n",
       "3      D    Clinton, Hillary Rodham\n",
       "4      R  Cruz, Rafael Edward 'Ted'\n",
       "5      R             Fiorina, Carly\n",
       "6      R      Gilmore, James S IIII\n",
       "7      R         Graham, Lindsey O.\n",
       "8      R             Huckabee, Mike\n",
       "9      R              Jindal, Bobby\n",
       "10     I              Johnson, Gary\n",
       "11     R            Kasich, John R.\n",
       "12     D           Lessig, Lawrence\n",
       "13     D    O'Malley, Martin Joseph\n",
       "14     R          Pataki, George E.\n",
       "15     R                 Paul, Rand\n",
       "16     R     Perry, James R. (Rick)\n",
       "17     R               Rubio, Marco\n",
       "18     D           Sanders, Bernard\n",
       "19     R       Santorum, Richard J.\n",
       "20     I                Stein, Jill\n",
       "21     R           Trump, Donald J.\n",
       "22     R              Walker, Scott\n",
       "23     D      Webb, James Henry Jr."
      ]
     },
     "execution_count": 55,
     "metadata": {},
     "output_type": "execute_result"
    }
   ],
   "source": [
    "affil = pd.read_csv('candidates.csv', delimiter='|', header=None)\n",
    "affil.columns = ['affil', 'name']\n",
    "affil"
   ]
  },
  {
   "cell_type": "code",
   "execution_count": 56,
   "metadata": {
    "collapsed": false
   },
   "outputs": [
    {
     "data": {
      "text/html": [
       "<div>\n",
       "<table border=\"1\" class=\"dataframe\">\n",
       "  <thead>\n",
       "    <tr style=\"text-align: right;\">\n",
       "      <th></th>\n",
       "      <th>contbr_st</th>\n",
       "      <th>cand_nm</th>\n",
       "      <th>contb_receipt_amt</th>\n",
       "      <th>cand_affil</th>\n",
       "    </tr>\n",
       "  </thead>\n",
       "  <tbody>\n",
       "    <tr>\n",
       "      <th>18</th>\n",
       "      <td>AK</td>\n",
       "      <td>Rubio, Marco</td>\n",
       "      <td>500</td>\n",
       "      <td>R</td>\n",
       "    </tr>\n",
       "    <tr>\n",
       "      <th>19</th>\n",
       "      <td>AK</td>\n",
       "      <td>Rubio, Marco</td>\n",
       "      <td>100</td>\n",
       "      <td>R</td>\n",
       "    </tr>\n",
       "    <tr>\n",
       "      <th>20</th>\n",
       "      <td>AK</td>\n",
       "      <td>Rubio, Marco</td>\n",
       "      <td>25</td>\n",
       "      <td>R</td>\n",
       "    </tr>\n",
       "    <tr>\n",
       "      <th>21</th>\n",
       "      <td>AK</td>\n",
       "      <td>Rubio, Marco</td>\n",
       "      <td>250</td>\n",
       "      <td>R</td>\n",
       "    </tr>\n",
       "    <tr>\n",
       "      <th>22</th>\n",
       "      <td>AK</td>\n",
       "      <td>Rubio, Marco</td>\n",
       "      <td>15</td>\n",
       "      <td>R</td>\n",
       "    </tr>\n",
       "  </tbody>\n",
       "</table>\n",
       "</div>"
      ],
      "text/plain": [
       "   contbr_st       cand_nm contb_receipt_amt cand_affil\n",
       "18        AK  Rubio, Marco               500          R\n",
       "19        AK  Rubio, Marco               100          R\n",
       "20        AK  Rubio, Marco                25          R\n",
       "21        AK  Rubio, Marco               250          R\n",
       "22        AK  Rubio, Marco                15          R"
      ]
     },
     "execution_count": 56,
     "metadata": {},
     "output_type": "execute_result"
    }
   ],
   "source": [
    "affil_dict = affil.set_index('name').to_dict()['affil']\n",
    "reduced_vs_df['cand_affil'] = reduced_vs_df['cand_nm'].map(affil_dict)\n",
    "reduced_vs_df.head()"
   ]
  },
  {
   "cell_type": "code",
   "execution_count": 79,
   "metadata": {
    "collapsed": false
   },
   "outputs": [
    {
     "data": {
      "text/html": [
       "<div>\n",
       "<table border=\"1\" class=\"dataframe\">\n",
       "  <thead>\n",
       "    <tr style=\"text-align: right;\">\n",
       "      <th></th>\n",
       "      <th>contbr_st</th>\n",
       "      <th>contb_receipt_amt</th>\n",
       "      <th>cand_affil</th>\n",
       "    </tr>\n",
       "  </thead>\n",
       "  <tbody>\n",
       "    <tr>\n",
       "      <th>18</th>\n",
       "      <td>AK</td>\n",
       "      <td>500.0</td>\n",
       "      <td>R</td>\n",
       "    </tr>\n",
       "    <tr>\n",
       "      <th>19</th>\n",
       "      <td>AK</td>\n",
       "      <td>100.0</td>\n",
       "      <td>R</td>\n",
       "    </tr>\n",
       "    <tr>\n",
       "      <th>20</th>\n",
       "      <td>AK</td>\n",
       "      <td>25.0</td>\n",
       "      <td>R</td>\n",
       "    </tr>\n",
       "    <tr>\n",
       "      <th>21</th>\n",
       "      <td>AK</td>\n",
       "      <td>250.0</td>\n",
       "      <td>R</td>\n",
       "    </tr>\n",
       "    <tr>\n",
       "      <th>22</th>\n",
       "      <td>AK</td>\n",
       "      <td>15.0</td>\n",
       "      <td>R</td>\n",
       "    </tr>\n",
       "  </tbody>\n",
       "</table>\n",
       "</div>"
      ],
      "text/plain": [
       "   contbr_st  contb_receipt_amt cand_affil\n",
       "18        AK              500.0          R\n",
       "19        AK              100.0          R\n",
       "20        AK               25.0          R\n",
       "21        AK              250.0          R\n",
       "22        AK               15.0          R"
      ]
     },
     "execution_count": 79,
     "metadata": {},
     "output_type": "execute_result"
    }
   ],
   "source": [
    "affil_df = reduced_vs_df[['contbr_st', 'contb_receipt_amt', 'cand_affil']].copy()\n",
    "affil_df['contb_receipt_amt'] = pd.to_numeric(affil_df['contb_receipt_amt'])\n",
    "affil_df.head()"
   ]
  },
  {
   "cell_type": "code",
   "execution_count": 83,
   "metadata": {
    "collapsed": false
   },
   "outputs": [
    {
     "data": {
      "text/html": [
       "<div>\n",
       "<table border=\"1\" class=\"dataframe\">\n",
       "  <thead>\n",
       "    <tr style=\"text-align: right;\">\n",
       "      <th></th>\n",
       "      <th>contbr_st</th>\n",
       "      <th>cand_affil</th>\n",
       "      <th>contb_receipt_amt</th>\n",
       "    </tr>\n",
       "  </thead>\n",
       "  <tbody>\n",
       "    <tr>\n",
       "      <th>0</th>\n",
       "      <td>AK</td>\n",
       "      <td>D</td>\n",
       "      <td>536517.78</td>\n",
       "    </tr>\n",
       "    <tr>\n",
       "      <th>1</th>\n",
       "      <td>AK</td>\n",
       "      <td>I</td>\n",
       "      <td>2775.40</td>\n",
       "    </tr>\n",
       "    <tr>\n",
       "      <th>2</th>\n",
       "      <td>AK</td>\n",
       "      <td>R</td>\n",
       "      <td>401026.80</td>\n",
       "    </tr>\n",
       "    <tr>\n",
       "      <th>3</th>\n",
       "      <td>AL</td>\n",
       "      <td>D</td>\n",
       "      <td>959516.96</td>\n",
       "    </tr>\n",
       "    <tr>\n",
       "      <th>4</th>\n",
       "      <td>AL</td>\n",
       "      <td>I</td>\n",
       "      <td>4300.00</td>\n",
       "    </tr>\n",
       "    <tr>\n",
       "      <th>5</th>\n",
       "      <td>AL</td>\n",
       "      <td>R</td>\n",
       "      <td>2528889.82</td>\n",
       "    </tr>\n",
       "    <tr>\n",
       "      <th>6</th>\n",
       "      <td>AR</td>\n",
       "      <td>D</td>\n",
       "      <td>1462504.68</td>\n",
       "    </tr>\n",
       "    <tr>\n",
       "      <th>7</th>\n",
       "      <td>AR</td>\n",
       "      <td>I</td>\n",
       "      <td>1904.59</td>\n",
       "    </tr>\n",
       "    <tr>\n",
       "      <th>8</th>\n",
       "      <td>AR</td>\n",
       "      <td>R</td>\n",
       "      <td>1660523.11</td>\n",
       "    </tr>\n",
       "  </tbody>\n",
       "</table>\n",
       "</div>"
      ],
      "text/plain": [
       "  contbr_st cand_affil  contb_receipt_amt\n",
       "0        AK          D          536517.78\n",
       "1        AK          I            2775.40\n",
       "2        AK          R          401026.80\n",
       "3        AL          D          959516.96\n",
       "4        AL          I            4300.00\n",
       "5        AL          R         2528889.82\n",
       "6        AR          D         1462504.68\n",
       "7        AR          I            1904.59\n",
       "8        AR          R         1660523.11"
      ]
     },
     "execution_count": 83,
     "metadata": {},
     "output_type": "execute_result"
    }
   ],
   "source": [
    "summed = affil_df.groupby(['contbr_st', 'cand_affil']).sum().reset_index()\n",
    "summed.head(9)"
   ]
  },
  {
   "cell_type": "code",
   "execution_count": 88,
   "metadata": {
    "collapsed": false
   },
   "outputs": [
    {
     "data": {
      "text/html": [
       "<div>\n",
       "<table border=\"1\" class=\"dataframe\">\n",
       "  <thead>\n",
       "    <tr style=\"text-align: right;\">\n",
       "      <th></th>\n",
       "      <th>contbr_st</th>\n",
       "      <th>cand_affil</th>\n",
       "      <th>contb_receipt_amt</th>\n",
       "    </tr>\n",
       "  </thead>\n",
       "  <tbody>\n",
       "    <tr>\n",
       "      <th>0</th>\n",
       "      <td>AK</td>\n",
       "      <td>D</td>\n",
       "      <td>5.365178e+05</td>\n",
       "    </tr>\n",
       "    <tr>\n",
       "      <th>5</th>\n",
       "      <td>AL</td>\n",
       "      <td>R</td>\n",
       "      <td>2.528890e+06</td>\n",
       "    </tr>\n",
       "    <tr>\n",
       "      <th>8</th>\n",
       "      <td>AR</td>\n",
       "      <td>R</td>\n",
       "      <td>1.660523e+06</td>\n",
       "    </tr>\n",
       "    <tr>\n",
       "      <th>11</th>\n",
       "      <td>AZ</td>\n",
       "      <td>R</td>\n",
       "      <td>4.008656e+06</td>\n",
       "    </tr>\n",
       "    <tr>\n",
       "      <th>12</th>\n",
       "      <td>CA</td>\n",
       "      <td>D</td>\n",
       "      <td>6.012483e+07</td>\n",
       "    </tr>\n",
       "  </tbody>\n",
       "</table>\n",
       "</div>"
      ],
      "text/plain": [
       "   contbr_st cand_affil  contb_receipt_amt\n",
       "0         AK          D       5.365178e+05\n",
       "5         AL          R       2.528890e+06\n",
       "8         AR          R       1.660523e+06\n",
       "11        AZ          R       4.008656e+06\n",
       "12        CA          D       6.012483e+07"
      ]
     },
     "execution_count": 88,
     "metadata": {},
     "output_type": "execute_result"
    }
   ],
   "source": [
    "idx = summed.groupby('contbr_st')['contb_receipt_amt'].transform(max) == summed['contb_receipt_amt']\n",
    "state_affil_df = summed[idx].copy()\n",
    "state_affil_df.head()"
   ]
  },
  {
   "cell_type": "code",
   "execution_count": 156,
   "metadata": {
    "collapsed": false
   },
   "outputs": [
    {
     "data": {
      "text/html": [
       "<div>\n",
       "<table border=\"1\" class=\"dataframe\">\n",
       "  <thead>\n",
       "    <tr style=\"text-align: right;\">\n",
       "      <th></th>\n",
       "      <th>contbr_st</th>\n",
       "      <th>cand_affil</th>\n",
       "      <th>contb_receipt_amt</th>\n",
       "    </tr>\n",
       "  </thead>\n",
       "  <tbody>\n",
       "    <tr>\n",
       "      <th>0</th>\n",
       "      <td>AK</td>\n",
       "      <td>R</td>\n",
       "      <td>401026.80</td>\n",
       "    </tr>\n",
       "    <tr>\n",
       "      <th>1</th>\n",
       "      <td>AL</td>\n",
       "      <td>R</td>\n",
       "      <td>2528889.82</td>\n",
       "    </tr>\n",
       "    <tr>\n",
       "      <th>2</th>\n",
       "      <td>AR</td>\n",
       "      <td>R</td>\n",
       "      <td>1660523.11</td>\n",
       "    </tr>\n",
       "    <tr>\n",
       "      <th>3</th>\n",
       "      <td>AZ</td>\n",
       "      <td>R</td>\n",
       "      <td>4008656.36</td>\n",
       "    </tr>\n",
       "    <tr>\n",
       "      <th>4</th>\n",
       "      <td>CA</td>\n",
       "      <td>R</td>\n",
       "      <td>26993521.09</td>\n",
       "    </tr>\n",
       "  </tbody>\n",
       "</table>\n",
       "</div>"
      ],
      "text/plain": [
       "  contbr_st cand_affil  contb_receipt_amt\n",
       "0        AK          R          401026.80\n",
       "1        AL          R         2528889.82\n",
       "2        AR          R         1660523.11\n",
       "3        AZ          R         4008656.36\n",
       "4        CA          R        26993521.09"
      ]
     },
     "execution_count": 156,
     "metadata": {},
     "output_type": "execute_result"
    }
   ],
   "source": [
    "state_republ = summed[summed['cand_affil'] == 'R'].sort_values(by=['contbr_st']).reset_index(drop=True)\n",
    "state_republ.head()"
   ]
  },
  {
   "cell_type": "code",
   "execution_count": 157,
   "metadata": {
    "collapsed": false
   },
   "outputs": [
    {
     "data": {
      "text/html": [
       "<div>\n",
       "<table border=\"1\" class=\"dataframe\">\n",
       "  <thead>\n",
       "    <tr style=\"text-align: right;\">\n",
       "      <th></th>\n",
       "      <th>contbr_st</th>\n",
       "      <th>cand_affil</th>\n",
       "      <th>contb_receipt_amt</th>\n",
       "    </tr>\n",
       "  </thead>\n",
       "  <tbody>\n",
       "    <tr>\n",
       "      <th>0</th>\n",
       "      <td>AK</td>\n",
       "      <td>D</td>\n",
       "      <td>5.365178e+05</td>\n",
       "    </tr>\n",
       "    <tr>\n",
       "      <th>1</th>\n",
       "      <td>AL</td>\n",
       "      <td>D</td>\n",
       "      <td>9.595170e+05</td>\n",
       "    </tr>\n",
       "    <tr>\n",
       "      <th>2</th>\n",
       "      <td>AR</td>\n",
       "      <td>D</td>\n",
       "      <td>1.462505e+06</td>\n",
       "    </tr>\n",
       "    <tr>\n",
       "      <th>3</th>\n",
       "      <td>AZ</td>\n",
       "      <td>D</td>\n",
       "      <td>3.090719e+06</td>\n",
       "    </tr>\n",
       "    <tr>\n",
       "      <th>4</th>\n",
       "      <td>CA</td>\n",
       "      <td>D</td>\n",
       "      <td>6.012483e+07</td>\n",
       "    </tr>\n",
       "  </tbody>\n",
       "</table>\n",
       "</div>"
      ],
      "text/plain": [
       "  contbr_st cand_affil  contb_receipt_amt\n",
       "0        AK          D       5.365178e+05\n",
       "1        AL          D       9.595170e+05\n",
       "2        AR          D       1.462505e+06\n",
       "3        AZ          D       3.090719e+06\n",
       "4        CA          D       6.012483e+07"
      ]
     },
     "execution_count": 157,
     "metadata": {},
     "output_type": "execute_result"
    }
   ],
   "source": [
    "state_dem = summed[summed['cand_affil'] == 'D'].sort_values(by=['contbr_st']).reset_index(drop=True)\n",
    "state_dem.head()"
   ]
  },
  {
   "cell_type": "code",
   "execution_count": 134,
   "metadata": {
    "collapsed": false
   },
   "outputs": [
    {
     "ename": "AttributeError",
     "evalue": "'module' object has no attribute 'scale'",
     "output_type": "error",
     "traceback": [
      "\u001b[0;31m---------------------------------------------------------------------------\u001b[0m",
      "\u001b[0;31mAttributeError\u001b[0m                            Traceback (most recent call last)",
      "\u001b[0;32m<ipython-input-134-a12362421322>\u001b[0m in \u001b[0;36m<module>\u001b[0;34m()\u001b[0m\n\u001b[1;32m      2\u001b[0m \u001b[0mdiff_df\u001b[0m\u001b[0;34m[\u001b[0m\u001b[0;34m'dem_surplus'\u001b[0m\u001b[0;34m]\u001b[0m \u001b[0;34m=\u001b[0m \u001b[0mstate_dem\u001b[0m\u001b[0;34m[\u001b[0m\u001b[0;34m'contb_receipt_amt'\u001b[0m\u001b[0;34m]\u001b[0m\u001b[0;34m.\u001b[0m\u001b[0msubtract\u001b[0m\u001b[0;34m(\u001b[0m\u001b[0mstate_republ\u001b[0m\u001b[0;34m[\u001b[0m\u001b[0;34m'contb_receipt_amt'\u001b[0m\u001b[0;34m]\u001b[0m\u001b[0;34m)\u001b[0m\u001b[0;34m\u001b[0m\u001b[0m\n\u001b[1;32m      3\u001b[0m \u001b[0mdiff_df\u001b[0m \u001b[0;34m=\u001b[0m \u001b[0mdiff_df\u001b[0m\u001b[0;34m[\u001b[0m\u001b[0;34m[\u001b[0m\u001b[0;34m'contbr_st'\u001b[0m\u001b[0;34m,\u001b[0m \u001b[0;34m'dem_surplus'\u001b[0m\u001b[0;34m]\u001b[0m\u001b[0;34m]\u001b[0m\u001b[0;34m\u001b[0m\u001b[0m\n\u001b[0;32m----> 4\u001b[0;31m \u001b[0mdiff_df\u001b[0m\u001b[0;34m.\u001b[0m\u001b[0mapply\u001b[0m\u001b[0;34m(\u001b[0m\u001b[0mpd\u001b[0m\u001b[0;34m.\u001b[0m\u001b[0mscale\u001b[0m\u001b[0;34m)\u001b[0m\u001b[0;34m\u001b[0m\u001b[0m\n\u001b[0m",
      "\u001b[0;31mAttributeError\u001b[0m: 'module' object has no attribute 'scale'"
     ]
    }
   ],
   "source": [
    "diff_df = state_dem.copy()\n",
    "diff_df['dem_surplus'] = state_dem['contb_receipt_amt'].subtract(state_republ['contb_receipt_amt'])\n",
    "diff_df = diff_df[['contbr_st', 'dem_surplus']]\n",
    "diff_df.apply(pd.scale)"
   ]
  },
  {
   "cell_type": "code",
   "execution_count": 158,
   "metadata": {
    "collapsed": false
   },
   "outputs": [
    {
     "data": {
      "text/html": [
       "<div>\n",
       "<table border=\"1\" class=\"dataframe\">\n",
       "  <thead>\n",
       "    <tr style=\"text-align: right;\">\n",
       "      <th></th>\n",
       "      <th>contbr_st</th>\n",
       "      <th>dem_surplus</th>\n",
       "    </tr>\n",
       "  </thead>\n",
       "  <tbody>\n",
       "    <tr>\n",
       "      <th>0</th>\n",
       "      <td>AK</td>\n",
       "      <td>1.354910e+05</td>\n",
       "    </tr>\n",
       "    <tr>\n",
       "      <th>1</th>\n",
       "      <td>AL</td>\n",
       "      <td>-1.569373e+06</td>\n",
       "    </tr>\n",
       "    <tr>\n",
       "      <th>2</th>\n",
       "      <td>AR</td>\n",
       "      <td>-1.980184e+05</td>\n",
       "    </tr>\n",
       "    <tr>\n",
       "      <th>3</th>\n",
       "      <td>AZ</td>\n",
       "      <td>-9.179369e+05</td>\n",
       "    </tr>\n",
       "    <tr>\n",
       "      <th>4</th>\n",
       "      <td>CA</td>\n",
       "      <td>3.313131e+07</td>\n",
       "    </tr>\n",
       "    <tr>\n",
       "      <th>5</th>\n",
       "      <td>CO</td>\n",
       "      <td>2.234793e+06</td>\n",
       "    </tr>\n",
       "    <tr>\n",
       "      <th>6</th>\n",
       "      <td>CT</td>\n",
       "      <td>1.658298e+06</td>\n",
       "    </tr>\n",
       "    <tr>\n",
       "      <th>7</th>\n",
       "      <td>DC</td>\n",
       "      <td>5.922831e+06</td>\n",
       "    </tr>\n",
       "    <tr>\n",
       "      <th>8</th>\n",
       "      <td>DE</td>\n",
       "      <td>9.031073e+04</td>\n",
       "    </tr>\n",
       "  </tbody>\n",
       "</table>\n",
       "</div>"
      ],
      "text/plain": [
       "  contbr_st   dem_surplus\n",
       "0        AK  1.354910e+05\n",
       "1        AL -1.569373e+06\n",
       "2        AR -1.980184e+05\n",
       "3        AZ -9.179369e+05\n",
       "4        CA  3.313131e+07\n",
       "5        CO  2.234793e+06\n",
       "6        CT  1.658298e+06\n",
       "7        DC  5.922831e+06\n",
       "8        DE  9.031073e+04"
      ]
     },
     "execution_count": 158,
     "metadata": {},
     "output_type": "execute_result"
    }
   ],
   "source": [
    "def normalize(df):\n",
    "    result = df.copy()\n",
    "    #max_value = df['dem_surplus'].max()\n",
    "    #min_value = df['dem_surplus'].min()\n",
    "    #result['dem_surplus'] = (df['dem_surplus'] - min_value) / (max_value - min_value)\n",
    "    return result\n",
    "\n",
    "norm_df = normalize(diff_df)\n",
    "norm_df.head(9)"
   ]
  },
  {
   "cell_type": "code",
   "execution_count": 159,
   "metadata": {
    "collapsed": false
   },
   "outputs": [],
   "source": [
    "mappings = dict((x, y.lower()) for x, y in us.states.mapping('abbr', 'name').iteritems())\n",
    "norm_df['contbr_st'] = norm_df['contbr_st'].map(mappings)"
   ]
  },
  {
   "cell_type": "code",
   "execution_count": 160,
   "metadata": {
    "collapsed": false
   },
   "outputs": [
    {
     "data": {
      "text/html": [
       "<div>\n",
       "<table border=\"1\" class=\"dataframe\">\n",
       "  <thead>\n",
       "    <tr style=\"text-align: right;\">\n",
       "      <th></th>\n",
       "      <th>region</th>\n",
       "      <th>value</th>\n",
       "    </tr>\n",
       "  </thead>\n",
       "  <tbody>\n",
       "    <tr>\n",
       "      <th>0</th>\n",
       "      <td>alaska</td>\n",
       "      <td>1.354910e+05</td>\n",
       "    </tr>\n",
       "    <tr>\n",
       "      <th>1</th>\n",
       "      <td>alabama</td>\n",
       "      <td>-1.569373e+06</td>\n",
       "    </tr>\n",
       "    <tr>\n",
       "      <th>2</th>\n",
       "      <td>arkansas</td>\n",
       "      <td>-1.980184e+05</td>\n",
       "    </tr>\n",
       "    <tr>\n",
       "      <th>3</th>\n",
       "      <td>arizona</td>\n",
       "      <td>-9.179369e+05</td>\n",
       "    </tr>\n",
       "    <tr>\n",
       "      <th>4</th>\n",
       "      <td>california</td>\n",
       "      <td>3.313131e+07</td>\n",
       "    </tr>\n",
       "    <tr>\n",
       "      <th>5</th>\n",
       "      <td>colorado</td>\n",
       "      <td>2.234793e+06</td>\n",
       "    </tr>\n",
       "    <tr>\n",
       "      <th>6</th>\n",
       "      <td>connecticut</td>\n",
       "      <td>1.658298e+06</td>\n",
       "    </tr>\n",
       "    <tr>\n",
       "      <th>7</th>\n",
       "      <td>district of columbia</td>\n",
       "      <td>5.922831e+06</td>\n",
       "    </tr>\n",
       "    <tr>\n",
       "      <th>8</th>\n",
       "      <td>delaware</td>\n",
       "      <td>9.031073e+04</td>\n",
       "    </tr>\n",
       "    <tr>\n",
       "      <th>9</th>\n",
       "      <td>florida</td>\n",
       "      <td>-9.831659e+06</td>\n",
       "    </tr>\n",
       "  </tbody>\n",
       "</table>\n",
       "</div>"
      ],
      "text/plain": [
       "                 region         value\n",
       "0                alaska  1.354910e+05\n",
       "1               alabama -1.569373e+06\n",
       "2              arkansas -1.980184e+05\n",
       "3               arizona -9.179369e+05\n",
       "4            california  3.313131e+07\n",
       "5              colorado  2.234793e+06\n",
       "6           connecticut  1.658298e+06\n",
       "7  district of columbia  5.922831e+06\n",
       "8              delaware  9.031073e+04\n",
       "9               florida -9.831659e+06"
      ]
     },
     "execution_count": 160,
     "metadata": {},
     "output_type": "execute_result"
    }
   ],
   "source": [
    "norm_df.columns = ['region', 'value']\n",
    "norm_df.head(10)"
   ]
  },
  {
   "cell_type": "code",
   "execution_count": 161,
   "metadata": {
    "collapsed": true
   },
   "outputs": [],
   "source": [
    "norm_df.to_csv('states_for_r_chrono.csv')"
   ]
  },
  {
   "cell_type": "code",
   "execution_count": null,
   "metadata": {
    "collapsed": true
   },
   "outputs": [],
   "source": []
  }
 ],
 "metadata": {
  "kernelspec": {
   "display_name": "Python [Root]",
   "language": "python",
   "name": "Python [Root]"
  },
  "language_info": {
   "codemirror_mode": {
    "name": "ipython",
    "version": 2
   },
   "file_extension": ".py",
   "mimetype": "text/x-python",
   "name": "python",
   "nbconvert_exporter": "python",
   "pygments_lexer": "ipython2",
   "version": "2.7.11"
  }
 },
 "nbformat": 4,
 "nbformat_minor": 0
}
