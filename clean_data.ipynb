{
 "cells": [
  {
   "cell_type": "code",
   "execution_count": 1,
   "metadata": {
    "collapsed": false
   },
   "outputs": [],
   "source": [
    "# Import all libraries needed for the tutorial\n",
    "\n",
    "# General syntax to import specific functions in a library: \n",
    "##from (library) import (specific library function)\n",
    "from pandas import DataFrame, read_csv\n",
    "\n",
    "# General syntax to import a library but no functions: \n",
    "##import (library) as (give the library a nickname/alias)\n",
    "import matplotlib.pyplot as plt\n",
    "import pandas as pd #this is how I usually import pandas\n",
    "import sys #only needed to determine Python version number\n",
    "import matplotlib #only needed to determine Matplotlib version number\n",
    "\n",
    "# Enable inline plotting\n",
    "%matplotlib inline"
   ]
  },
  {
   "cell_type": "code",
   "execution_count": 35,
   "metadata": {
    "collapsed": false
   },
   "outputs": [],
   "source": [
    "#filename = 'P00000001-ALL_2016.csv'\n",
    "filename = 'small.csv'\n",
    "df = pd.read_csv(filename, index_col=False, dtype=object)"
   ]
  },
  {
   "cell_type": "code",
   "execution_count": 36,
   "metadata": {
    "collapsed": false
   },
   "outputs": [
    {
     "data": {
      "text/html": [
       "<div>\n",
       "<table border=\"1\" class=\"dataframe\">\n",
       "  <thead>\n",
       "    <tr style=\"text-align: right;\">\n",
       "      <th></th>\n",
       "      <th>cmte_id</th>\n",
       "      <th>cand_id</th>\n",
       "      <th>cand_nm</th>\n",
       "      <th>contbr_nm</th>\n",
       "      <th>contbr_city</th>\n",
       "      <th>contbr_st</th>\n",
       "      <th>contbr_zip</th>\n",
       "      <th>contbr_employer</th>\n",
       "      <th>contbr_occupation</th>\n",
       "      <th>contb_receipt_amt</th>\n",
       "      <th>contb_receipt_dt</th>\n",
       "      <th>receipt_desc</th>\n",
       "      <th>memo_cd</th>\n",
       "      <th>memo_text</th>\n",
       "      <th>form_tp</th>\n",
       "      <th>file_num</th>\n",
       "      <th>tran_id</th>\n",
       "      <th>election_tp</th>\n",
       "    </tr>\n",
       "  </thead>\n",
       "  <tbody>\n",
       "    <tr>\n",
       "      <th>0</th>\n",
       "      <td>C00458844</td>\n",
       "      <td>P60006723</td>\n",
       "      <td>Rubio, Marco</td>\n",
       "      <td>BLUM, MAUREEN</td>\n",
       "      <td>WASHINGTON</td>\n",
       "      <td>20</td>\n",
       "      <td>DC</td>\n",
       "      <td>STRATEGIC COALITIONS &amp; INITIATIVES LL</td>\n",
       "      <td>OUTREACH DIRECTOR</td>\n",
       "      <td>175</td>\n",
       "      <td>15-MAR-16</td>\n",
       "      <td>NaN</td>\n",
       "      <td>NaN</td>\n",
       "      <td>NaN</td>\n",
       "      <td>SA17A</td>\n",
       "      <td>1066300</td>\n",
       "      <td>SA17.1152124</td>\n",
       "      <td>P2016</td>\n",
       "    </tr>\n",
       "    <tr>\n",
       "      <th>1</th>\n",
       "      <td>C00458844</td>\n",
       "      <td>P60006723</td>\n",
       "      <td>Rubio, Marco</td>\n",
       "      <td>DODSON, MARK B. MR.</td>\n",
       "      <td>ATLANTA</td>\n",
       "      <td>30</td>\n",
       "      <td>GA</td>\n",
       "      <td>MORTGAGE CAPITAL ADVISORS</td>\n",
       "      <td>PRIVATE MORTGAGE BANKING</td>\n",
       "      <td>25</td>\n",
       "      <td>16-MAR-16</td>\n",
       "      <td>NaN</td>\n",
       "      <td>NaN</td>\n",
       "      <td>DEBT RETIREMENT</td>\n",
       "      <td>SA17A</td>\n",
       "      <td>1066300</td>\n",
       "      <td>SA17.1153048</td>\n",
       "      <td>P2016</td>\n",
       "    </tr>\n",
       "    <tr>\n",
       "      <th>2</th>\n",
       "      <td>C00458844</td>\n",
       "      <td>P60006723</td>\n",
       "      <td>Rubio, Marco</td>\n",
       "      <td>RUCINSKI, ROBERT</td>\n",
       "      <td>APO</td>\n",
       "      <td>AE</td>\n",
       "      <td>090960009</td>\n",
       "      <td>US ARMY</td>\n",
       "      <td>PHYSICIAN</td>\n",
       "      <td>100</td>\n",
       "      <td>08-MAR-16</td>\n",
       "      <td>NaN</td>\n",
       "      <td>NaN</td>\n",
       "      <td>NaN</td>\n",
       "      <td>SA17A</td>\n",
       "      <td>1066300</td>\n",
       "      <td>SA17.1074981</td>\n",
       "      <td>P2016</td>\n",
       "    </tr>\n",
       "    <tr>\n",
       "      <th>3</th>\n",
       "      <td>C00458844</td>\n",
       "      <td>P60006723</td>\n",
       "      <td>Rubio, Marco</td>\n",
       "      <td>DOHERTY, THERESA</td>\n",
       "      <td>APO</td>\n",
       "      <td>AE</td>\n",
       "      <td>097520002</td>\n",
       "      <td>DODEA/DS</td>\n",
       "      <td>TEACHER</td>\n",
       "      <td>500</td>\n",
       "      <td>26-JUN-15</td>\n",
       "      <td>NaN</td>\n",
       "      <td>NaN</td>\n",
       "      <td>NaN</td>\n",
       "      <td>SA17A</td>\n",
       "      <td>1029436</td>\n",
       "      <td>SA17.769700</td>\n",
       "      <td>P2016</td>\n",
       "    </tr>\n",
       "    <tr>\n",
       "      <th>4</th>\n",
       "      <td>C00458844</td>\n",
       "      <td>P60006723</td>\n",
       "      <td>Rubio, Marco</td>\n",
       "      <td>MARQUEZ, PANFILO</td>\n",
       "      <td>DPO</td>\n",
       "      <td>AE</td>\n",
       "      <td>097770241</td>\n",
       "      <td>DEPARTMENT OF STATE</td>\n",
       "      <td>FOREIGN SERVICE OFFICER</td>\n",
       "      <td>100</td>\n",
       "      <td>07-MAR-16</td>\n",
       "      <td>NaN</td>\n",
       "      <td>NaN</td>\n",
       "      <td>NaN</td>\n",
       "      <td>SA17A</td>\n",
       "      <td>1066300</td>\n",
       "      <td>SA17.1074238</td>\n",
       "      <td>P2016</td>\n",
       "    </tr>\n",
       "  </tbody>\n",
       "</table>\n",
       "</div>"
      ],
      "text/plain": [
       "     cmte_id    cand_id       cand_nm            contbr_nm contbr_city  \\\n",
       "0  C00458844  P60006723  Rubio, Marco        BLUM, MAUREEN  WASHINGTON   \n",
       "1  C00458844  P60006723  Rubio, Marco  DODSON, MARK B. MR.     ATLANTA   \n",
       "2  C00458844  P60006723  Rubio, Marco     RUCINSKI, ROBERT         APO   \n",
       "3  C00458844  P60006723  Rubio, Marco     DOHERTY, THERESA         APO   \n",
       "4  C00458844  P60006723  Rubio, Marco     MARQUEZ, PANFILO         DPO   \n",
       "\n",
       "  contbr_st contbr_zip                        contbr_employer  \\\n",
       "0        20         DC  STRATEGIC COALITIONS & INITIATIVES LL   \n",
       "1        30         GA              MORTGAGE CAPITAL ADVISORS   \n",
       "2        AE  090960009                                US ARMY   \n",
       "3        AE  097520002                               DODEA/DS   \n",
       "4        AE  097770241                    DEPARTMENT OF STATE   \n",
       "\n",
       "          contbr_occupation contb_receipt_amt contb_receipt_dt receipt_desc  \\\n",
       "0         OUTREACH DIRECTOR               175        15-MAR-16          NaN   \n",
       "1  PRIVATE MORTGAGE BANKING                25        16-MAR-16          NaN   \n",
       "2                 PHYSICIAN               100        08-MAR-16          NaN   \n",
       "3                   TEACHER               500        26-JUN-15          NaN   \n",
       "4   FOREIGN SERVICE OFFICER               100        07-MAR-16          NaN   \n",
       "\n",
       "  memo_cd        memo_text form_tp file_num       tran_id election_tp  \n",
       "0     NaN              NaN   SA17A  1066300  SA17.1152124       P2016  \n",
       "1     NaN  DEBT RETIREMENT   SA17A  1066300  SA17.1153048       P2016  \n",
       "2     NaN              NaN   SA17A  1066300  SA17.1074981       P2016  \n",
       "3     NaN              NaN   SA17A  1029436   SA17.769700       P2016  \n",
       "4     NaN              NaN   SA17A  1066300  SA17.1074238       P2016  "
      ]
     },
     "execution_count": 36,
     "metadata": {},
     "output_type": "execute_result"
    }
   ],
   "source": [
    "df.head()"
   ]
  },
  {
   "cell_type": "code",
   "execution_count": 37,
   "metadata": {
    "collapsed": false
   },
   "outputs": [
    {
     "data": {
      "text/html": [
       "<div>\n",
       "<table border=\"1\" class=\"dataframe\">\n",
       "  <thead>\n",
       "    <tr style=\"text-align: right;\">\n",
       "      <th></th>\n",
       "      <th>contbr_nm</th>\n",
       "      <th>contbr_zip</th>\n",
       "      <th>contbr_employer</th>\n",
       "    </tr>\n",
       "  </thead>\n",
       "  <tbody>\n",
       "    <tr>\n",
       "      <th>0</th>\n",
       "      <td>BLUM, MAUREEN</td>\n",
       "      <td>DC</td>\n",
       "      <td>STRATEGIC COALITIONS &amp; INITIATIVES LL</td>\n",
       "    </tr>\n",
       "    <tr>\n",
       "      <th>1</th>\n",
       "      <td>DODSON, MARK B. MR.</td>\n",
       "      <td>GA</td>\n",
       "      <td>MORTGAGE CAPITAL ADVISORS</td>\n",
       "    </tr>\n",
       "    <tr>\n",
       "      <th>2</th>\n",
       "      <td>RUCINSKI, ROBERT</td>\n",
       "      <td>090960009</td>\n",
       "      <td>US ARMY</td>\n",
       "    </tr>\n",
       "    <tr>\n",
       "      <th>3</th>\n",
       "      <td>DOHERTY, THERESA</td>\n",
       "      <td>097520002</td>\n",
       "      <td>DODEA/DS</td>\n",
       "    </tr>\n",
       "    <tr>\n",
       "      <th>4</th>\n",
       "      <td>MARQUEZ, PANFILO</td>\n",
       "      <td>097770241</td>\n",
       "      <td>DEPARTMENT OF STATE</td>\n",
       "    </tr>\n",
       "  </tbody>\n",
       "</table>\n",
       "</div>"
      ],
      "text/plain": [
       "             contbr_nm contbr_zip                        contbr_employer\n",
       "0        BLUM, MAUREEN         DC  STRATEGIC COALITIONS & INITIATIVES LL\n",
       "1  DODSON, MARK B. MR.         GA              MORTGAGE CAPITAL ADVISORS\n",
       "2     RUCINSKI, ROBERT  090960009                                US ARMY\n",
       "3     DOHERTY, THERESA  097520002                               DODEA/DS\n",
       "4     MARQUEZ, PANFILO  097770241                    DEPARTMENT OF STATE"
      ]
     },
     "execution_count": 37,
     "metadata": {},
     "output_type": "execute_result"
    }
   ],
   "source": [
    "name_zip_empl = df[['contbr_nm', 'contbr_zip', 'contbr_employer']]\n",
    "name_zip_empl.head()"
   ]
  },
  {
   "cell_type": "code",
   "execution_count": 38,
   "metadata": {
    "collapsed": false
   },
   "outputs": [
    {
     "data": {
      "text/html": [
       "<div>\n",
       "<table border=\"1\" class=\"dataframe\">\n",
       "  <thead>\n",
       "    <tr style=\"text-align: right;\">\n",
       "      <th></th>\n",
       "      <th>contbr_nm</th>\n",
       "      <th>contbr_zip</th>\n",
       "      <th>contbr_employer</th>\n",
       "    </tr>\n",
       "  </thead>\n",
       "  <tbody>\n",
       "    <tr>\n",
       "      <th>0</th>\n",
       "      <td>BLUM, MAUREEN</td>\n",
       "      <td>DC</td>\n",
       "      <td>STRATEGIC COALITIONS &amp; INITIATIVES LL</td>\n",
       "    </tr>\n",
       "    <tr>\n",
       "      <th>1</th>\n",
       "      <td>DODSON, MARK B. MR.</td>\n",
       "      <td>GA</td>\n",
       "      <td>MORTGAGE CAPITAL ADVISORS</td>\n",
       "    </tr>\n",
       "    <tr>\n",
       "      <th>2</th>\n",
       "      <td>RUCINSKI, ROBERT</td>\n",
       "      <td>090960009</td>\n",
       "      <td>US ARMY</td>\n",
       "    </tr>\n",
       "    <tr>\n",
       "      <th>3</th>\n",
       "      <td>DOHERTY, THERESA</td>\n",
       "      <td>097520002</td>\n",
       "      <td>DODEA/DS</td>\n",
       "    </tr>\n",
       "    <tr>\n",
       "      <th>4</th>\n",
       "      <td>MARQUEZ, PANFILO</td>\n",
       "      <td>097770241</td>\n",
       "      <td>DEPARTMENT OF STATE</td>\n",
       "    </tr>\n",
       "  </tbody>\n",
       "</table>\n",
       "</div>"
      ],
      "text/plain": [
       "             contbr_nm contbr_zip                        contbr_employer\n",
       "0        BLUM, MAUREEN         DC  STRATEGIC COALITIONS & INITIATIVES LL\n",
       "1  DODSON, MARK B. MR.         GA              MORTGAGE CAPITAL ADVISORS\n",
       "2     RUCINSKI, ROBERT  090960009                                US ARMY\n",
       "3     DOHERTY, THERESA  097520002                               DODEA/DS\n",
       "4     MARQUEZ, PANFILO  097770241                    DEPARTMENT OF STATE"
      ]
     },
     "execution_count": 38,
     "metadata": {},
     "output_type": "execute_result"
    }
   ],
   "source": [
    "name_zip_empl = name_zip_empl[name_zip_empl['contbr_zip'].notnull()]\n",
    "name_clzip_empl = name_zip_empl.copy()\n",
    "name_clzip_empl.head()"
   ]
  },
  {
   "cell_type": "code",
   "execution_count": 39,
   "metadata": {
    "collapsed": false
   },
   "outputs": [
    {
     "data": {
      "text/html": [
       "<div>\n",
       "<table border=\"1\" class=\"dataframe\">\n",
       "  <thead>\n",
       "    <tr style=\"text-align: right;\">\n",
       "      <th></th>\n",
       "      <th>contbr_nm</th>\n",
       "      <th>contbr_zip</th>\n",
       "      <th>contbr_employer</th>\n",
       "    </tr>\n",
       "  </thead>\n",
       "  <tbody>\n",
       "    <tr>\n",
       "      <th>2</th>\n",
       "      <td>RUCINSKI, ROBERT</td>\n",
       "      <td>090960009</td>\n",
       "      <td>US ARMY</td>\n",
       "    </tr>\n",
       "    <tr>\n",
       "      <th>3</th>\n",
       "      <td>DOHERTY, THERESA</td>\n",
       "      <td>097520002</td>\n",
       "      <td>DODEA/DS</td>\n",
       "    </tr>\n",
       "    <tr>\n",
       "      <th>4</th>\n",
       "      <td>MARQUEZ, PANFILO</td>\n",
       "      <td>097770241</td>\n",
       "      <td>DEPARTMENT OF STATE</td>\n",
       "    </tr>\n",
       "    <tr>\n",
       "      <th>5</th>\n",
       "      <td>RECKER, ANGELA</td>\n",
       "      <td>00138</td>\n",
       "      <td>GOVERNMENT</td>\n",
       "    </tr>\n",
       "    <tr>\n",
       "      <th>6</th>\n",
       "      <td>RECKER, ANGELA</td>\n",
       "      <td>090120060</td>\n",
       "      <td>GOVERNMENT</td>\n",
       "    </tr>\n",
       "  </tbody>\n",
       "</table>\n",
       "</div>"
      ],
      "text/plain": [
       "          contbr_nm contbr_zip      contbr_employer\n",
       "2  RUCINSKI, ROBERT  090960009              US ARMY\n",
       "3  DOHERTY, THERESA  097520002             DODEA/DS\n",
       "4  MARQUEZ, PANFILO  097770241  DEPARTMENT OF STATE\n",
       "5    RECKER, ANGELA      00138           GOVERNMENT\n",
       "6    RECKER, ANGELA  090120060           GOVERNMENT"
      ]
     },
     "execution_count": 39,
     "metadata": {},
     "output_type": "execute_result"
    }
   ],
   "source": [
    "select  = name_clzip_empl.apply(lambda r : r['contbr_zip'].isdigit(), axis=1)\n",
    "\n",
    "name_zip_empl_digit_zip = name_clzip_empl[select]                                                                                                                          \n",
    "name_zip_empl_digit_zip.head()"
   ]
  },
  {
   "cell_type": "code",
   "execution_count": 40,
   "metadata": {
    "collapsed": false
   },
   "outputs": [
    {
     "data": {
      "text/plain": [
       "(109973, 3)"
      ]
     },
     "execution_count": 40,
     "metadata": {},
     "output_type": "execute_result"
    }
   ],
   "source": [
    "name_zip_empl_digit_zip.shape"
   ]
  },
  {
   "cell_type": "code",
   "execution_count": 41,
   "metadata": {
    "collapsed": false
   },
   "outputs": [
    {
     "data": {
      "text/plain": [
       "(109999, 18)"
      ]
     },
     "execution_count": 41,
     "metadata": {},
     "output_type": "execute_result"
    }
   ],
   "source": [
    "df.shape"
   ]
  },
  {
   "cell_type": "code",
   "execution_count": 42,
   "metadata": {
    "collapsed": false
   },
   "outputs": [],
   "source": [
    "merged_name_zip = name_zip_empl_digit_zip.copy()\n",
    "merged_name_zip['name_zip'] = merged_name_zip['contbr_nm'] + '_' + merged_name_zip['contbr_zip']"
   ]
  },
  {
   "cell_type": "code",
   "execution_count": 43,
   "metadata": {
    "collapsed": false
   },
   "outputs": [
    {
     "data": {
      "text/html": [
       "<div>\n",
       "<table border=\"1\" class=\"dataframe\">\n",
       "  <thead>\n",
       "    <tr style=\"text-align: right;\">\n",
       "      <th></th>\n",
       "      <th>contbr_nm</th>\n",
       "      <th>contbr_zip</th>\n",
       "      <th>contbr_employer</th>\n",
       "      <th>name_zip</th>\n",
       "    </tr>\n",
       "  </thead>\n",
       "  <tbody>\n",
       "    <tr>\n",
       "      <th>2</th>\n",
       "      <td>RUCINSKI, ROBERT</td>\n",
       "      <td>090960009</td>\n",
       "      <td>US ARMY</td>\n",
       "      <td>RUCINSKI, ROBERT_090960009</td>\n",
       "    </tr>\n",
       "    <tr>\n",
       "      <th>3</th>\n",
       "      <td>DOHERTY, THERESA</td>\n",
       "      <td>097520002</td>\n",
       "      <td>DODEA/DS</td>\n",
       "      <td>DOHERTY, THERESA_097520002</td>\n",
       "    </tr>\n",
       "    <tr>\n",
       "      <th>4</th>\n",
       "      <td>MARQUEZ, PANFILO</td>\n",
       "      <td>097770241</td>\n",
       "      <td>DEPARTMENT OF STATE</td>\n",
       "      <td>MARQUEZ, PANFILO_097770241</td>\n",
       "    </tr>\n",
       "    <tr>\n",
       "      <th>5</th>\n",
       "      <td>RECKER, ANGELA</td>\n",
       "      <td>00138</td>\n",
       "      <td>GOVERNMENT</td>\n",
       "      <td>RECKER, ANGELA_00138</td>\n",
       "    </tr>\n",
       "    <tr>\n",
       "      <th>6</th>\n",
       "      <td>RECKER, ANGELA</td>\n",
       "      <td>090120060</td>\n",
       "      <td>GOVERNMENT</td>\n",
       "      <td>RECKER, ANGELA_090120060</td>\n",
       "    </tr>\n",
       "  </tbody>\n",
       "</table>\n",
       "</div>"
      ],
      "text/plain": [
       "          contbr_nm contbr_zip      contbr_employer  \\\n",
       "2  RUCINSKI, ROBERT  090960009              US ARMY   \n",
       "3  DOHERTY, THERESA  097520002             DODEA/DS   \n",
       "4  MARQUEZ, PANFILO  097770241  DEPARTMENT OF STATE   \n",
       "5    RECKER, ANGELA      00138           GOVERNMENT   \n",
       "6    RECKER, ANGELA  090120060           GOVERNMENT   \n",
       "\n",
       "                     name_zip  \n",
       "2  RUCINSKI, ROBERT_090960009  \n",
       "3  DOHERTY, THERESA_097520002  \n",
       "4  MARQUEZ, PANFILO_097770241  \n",
       "5        RECKER, ANGELA_00138  \n",
       "6    RECKER, ANGELA_090120060  "
      ]
     },
     "execution_count": 43,
     "metadata": {},
     "output_type": "execute_result"
    }
   ],
   "source": [
    "merged_name_zip.head()"
   ]
  },
  {
   "cell_type": "code",
   "execution_count": 51,
   "metadata": {
    "collapsed": false
   },
   "outputs": [],
   "source": [
    "grouped_by_employer = name_zip_empl_digit_zip.groupby(['contbr_nm', 'contbr_zip'])['contbr_employer'].nunique().reset_index()"
   ]
  },
  {
   "cell_type": "code",
   "execution_count": null,
   "metadata": {
    "collapsed": true
   },
   "outputs": [],
   "source": []
  }
 ],
 "metadata": {
  "anaconda-cloud": {},
  "kernelspec": {
   "display_name": "Python [Root]",
   "language": "python",
   "name": "Python [Root]"
  },
  "language_info": {
   "codemirror_mode": {
    "name": "ipython",
    "version": 2
   },
   "file_extension": ".py",
   "mimetype": "text/x-python",
   "name": "python",
   "nbconvert_exporter": "python",
   "pygments_lexer": "ipython2",
   "version": "2.7.11"
  }
 },
 "nbformat": 4,
 "nbformat_minor": 0
}
